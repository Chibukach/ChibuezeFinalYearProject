{
 "cells": [
  {
   "cell_type": "markdown",
   "metadata": {},
   "source": [
    "##### Author: Chibueze Ukachi\n",
    "##### This notebook retrieves the shortest path from switch 1 to 10 by looking at all 14 switches flow table \n",
    "\n",
    "#### Full code written by author "
   ]
  },
  {
   "cell_type": "code",
   "execution_count": 1,
   "metadata": {
    "collapsed": true
   },
   "outputs": [],
   "source": [
    "#import relevant libraries\n",
    "import pandas as pd\n",
    "import re\n",
    "from collections import defaultdict,  OrderedDict\n"
   ]
  },
  {
   "cell_type": "markdown",
   "metadata": {},
   "source": [
    "### Import the flow table which is collected from directly from  the open flow switches"
   ]
  },
  {
   "cell_type": "code",
   "execution_count": 2,
   "metadata": {
    "collapsed": true
   },
   "outputs": [],
   "source": [
    "with open('Data/flow_table.txt', 'r') as f:\n",
    "    data = f.read()\n",
    "    "
   ]
  },
  {
   "cell_type": "markdown",
   "metadata": {},
   "source": [
    "### Regular expression is used to parse the text file to highlight relevant information such as port numbers and destination mac address\n",
    "#### An example of the flow table is shown below:\n",
    "\n",
    "\n",
    "'''router=2\n",
    "OFPST_FLOW reply (OF1.3) (xid=0x2):\n",
    " cookie=0x0, duration=39.79s, table=0, n_packets=1, n_bytes=42, priority=1,arp,in_port=15,dl_dst=00:00:00:00:00:04 actions=output:3\n",
    " cookie=0x0, duration=7.199s, table=0, n_packets=1, n_bytes=98, priority=1,ip,in_port=1,dl_dst=00:00:00:00:00:05 actions=output:3'''"
   ]
  },
  {
   "cell_type": "code",
   "execution_count": 3,
   "metadata": {},
   "outputs": [
    {
     "data": {
      "text/plain": [
       "'this returns a cleaner output such as:\\n    in_port=15,dl_dst=00:00:00:00:00:10 actions=output:3 '"
      ]
     },
     "execution_count": 3,
     "metadata": {},
     "output_type": "execute_result"
    }
   ],
   "source": [
    "pattern = re.compile('(router[=]\\d{2}|router[=]\\d|in_port[=](.*?)output[:]\\d)'\n",
    "                     ,re.MULTILINE)\n",
    "'''this returns a cleaner output such as:\n",
    "    in_port=15,dl_dst=00:00:00:00:00:10 actions=output:3 '''"
   ]
  },
  {
   "cell_type": "code",
   "execution_count": 4,
   "metadata": {
    "collapsed": true
   },
   "outputs": [],
   "source": [
    "dest_mac = 10\n",
    "curr_router = []\n",
    "#default dict because the keys are unique and a single router can contain multiple flows\n",
    "my_dict = defaultdict(list)\n",
    "#loop true every pattern discovered\n",
    "for elem in re.findall(pattern,data):\n",
    "    #check string starts with router\n",
    "    row = elem[0]\n",
    "    #create a new key for each outer\n",
    "    if row[:6]== \"router\":\n",
    "        curr_router.append(row)\n",
    "    elif row not in my_dict.keys():\n",
    "        #retrieve the last two digits of mac address\n",
    "        temp = row.find(':')  \n",
    "        local_mac = int(row[temp + 13:temp + 15])\n",
    "        #for demo, only consider the single destination\n",
    "        if local_mac == dest_mac:\n",
    "            #append the relevant flows\n",
    "            my_dict[curr_router[-1]].append(row)\n",
    "        "
   ]
  },
  {
   "cell_type": "code",
   "execution_count": 5,
   "metadata": {},
   "outputs": [
    {
     "data": {
      "text/plain": [
       "OrderedDict([('router=1',\n",
       "              'in_port=15,dl_dst=00:00:00:00:00:10 actions=output:3'),\n",
       "             ('router=8',\n",
       "              'in_port=2,dl_dst=00:00:00:00:00:10 actions=output:3'),\n",
       "             ('router=9',\n",
       "              'in_port=15,dl_dst=00:00:00:00:00:10 actions=output:2'),\n",
       "             ('router=10',\n",
       "              'in_port=2,dl_dst=00:00:00:00:00:10 actions=output:1')])"
      ]
     },
     "execution_count": 5,
     "metadata": {},
     "output_type": "execute_result"
    }
   ],
   "source": [
    "demostration = OrderedDict({\n",
    "    'router=1' :  my_dict['router=1'][0],\n",
    "    'router=8' :  my_dict['router=8'][0],\n",
    "    'router=9' :  my_dict['router=9'][0],\n",
    "    'router=10': my_dict['router=10'][0]\n",
    "    \n",
    "})\n",
    "demostration"
   ]
  }
 ],
 "metadata": {
  "kernelspec": {
   "display_name": "Python 3",
   "language": "python",
   "name": "python3"
  },
  "language_info": {
   "codemirror_mode": {
    "name": "ipython",
    "version": 3
   },
   "file_extension": ".py",
   "mimetype": "text/x-python",
   "name": "python",
   "nbconvert_exporter": "python",
   "pygments_lexer": "ipython3",
   "version": "3.6.3"
  }
 },
 "nbformat": 4,
 "nbformat_minor": 2
}
