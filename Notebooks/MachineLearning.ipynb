{
 "cells": [
  {
   "cell_type": "markdown",
   "metadata": {},
   "source": [
    "##### Author: Chibueze Ukachi\n",
    "##### This notebook goes through the Data Analysis pipeline from descriptive analysis to Machine Learning and visualisation \n",
    "\n",
    "- Source: https://pythonspot.com/matplotlib-bar-chart/. The modifications were made to **part 5** to make the code used for drawing the histogram have the appropriate legends for train/test split: \n",
    "\n",
    "- Source: http://scikit-learn.org/stable/modules/feature_selection.html. No modifications were made to code in **part 7** which was used to highlight important features for the  ML algorithm\n",
    "\n",
    "- Source: http://scikit-learn.org/stable/auto_examples/neighbors/plot_classification.html#sphx-glr-auto-examples-neighbors-plot-classification-py. Modifications were made to code in **part 10** to draw the decision boundaries for a five class problem. Also, changes to the min/max indices and graph positioning\n"
   ]
  },
  {
   "cell_type": "code",
   "execution_count": 1,
   "metadata": {
    "collapsed": true
   },
   "outputs": [],
   "source": [
    "# Load libraries\n",
    "\n",
    "%matplotlib inline\n",
    "\n",
    "import matplotlib.pyplot as plt\n",
    "from matplotlib.colors import ListedColormap\n",
    "import seaborn as sn\n",
    "import numpy as np # Math\n",
    "import pandas as pd\n",
    "import sklearn.neighbors, sklearn.ensemble\n",
    "from sklearn.ensemble import ExtraTreesClassifier\n",
    "\n",
    "import time\n",
    "from time import process_time\n",
    "\n",
    "from sklearn.model_selection import train_test_split\n",
    "from sklearn import preprocessing, neighbors, datasets, metrics\n",
    "from sklearn.metrics import confusion_matrix, accuracy_score\n",
    "\n",
    "from sklearn.model_selection import cross_val_score, GridSearchCV\n",
    "from sklearn.neighbors import KNeighborsClassifier\n",
    "from sklearn.ensemble import RandomForestClassifier\n",
    "from sklearn.svm import LinearSVC\n",
    "from sklearn.linear_model import LogisticRegression\n",
    "from sklearn.naive_bayes import MultinomialNB\n",
    "\n",
    "\n",
    "import warnings\n",
    "warnings.filterwarnings('ignore')\n",
    "\n",
    "import sklearn.neighbors, sklearn.linear_model, sklearn.ensemble, sklearn.naive_bayes \n"
   ]
  },
  {
   "cell_type": "markdown",
   "metadata": {},
   "source": [
    "## Supervised Machine Learning Classification\n",
    "\n",
    "This notebook uses the features extracted in the **ReadyFeatureExtraction_Uniform** csv file to perform classify different application layer protocols. \n",
    "\n",
    "1. Import and do high level verification check of dataset\n",
    "2. Transform data to scikit-learn friendly format\n",
    "3. Compute 80/20 train test split and perform classification\n",
    "4. Cross validation to verify it\n",
    "5. Plot train/test split graph \n",
    "6. Confusion matrix\n",
    "7. Feature importances\n",
    "8. Hyper-parameter tuning\n",
    "9. Drawing mesh grid\n",
    "10. Draw decision boundaries\n",
    "11. Extension: ML with shallow packet inspection"
   ]
  },
  {
   "cell_type": "markdown",
   "metadata": {},
   "source": [
    "### 1. Import data and retrieve high level details \n"
   ]
  },
  {
   "cell_type": "code",
   "execution_count": 2,
   "metadata": {},
   "outputs": [
    {
     "name": "stdout",
     "output_type": "stream",
     "text": [
      "(7275, 6)\n"
     ]
    }
   ],
   "source": [
    "#import cleaned data set\n",
    "df = pd.read_csv(\"Data/ReadyFeatureExtraction_Uniform.csv\",index_col=0) \n",
    "#uncomment to use the non-uniform dataset. Note that it is prone to overfitting\n",
    "#df = pd.read_csv(\"ReadyFeatureExtraction_NonUniform.csv\",index_col=0) \n",
    "print(df.shape)"
   ]
  },
  {
   "cell_type": "code",
   "execution_count": 3,
   "metadata": {},
   "outputs": [
    {
     "data": {
      "text/html": [
       "<div>\n",
       "<style>\n",
       "    .dataframe thead tr:only-child th {\n",
       "        text-align: right;\n",
       "    }\n",
       "\n",
       "    .dataframe thead th {\n",
       "        text-align: left;\n",
       "    }\n",
       "\n",
       "    .dataframe tbody tr th {\n",
       "        vertical-align: top;\n",
       "    }\n",
       "</style>\n",
       "<table border=\"1\" class=\"dataframe\">\n",
       "  <thead>\n",
       "    <tr style=\"text-align: right;\">\n",
       "      <th></th>\n",
       "      <th>avg_delay</th>\n",
       "      <th>avg_byte_rate</th>\n",
       "      <th>avg_packet_rate</th>\n",
       "      <th>avg_packet_size</th>\n",
       "      <th>Protocol</th>\n",
       "      <th>NumericalProtocol</th>\n",
       "    </tr>\n",
       "  </thead>\n",
       "  <tbody>\n",
       "    <tr>\n",
       "      <th>0</th>\n",
       "      <td>0.0734</td>\n",
       "      <td>0.373261</td>\n",
       "      <td>0.162288</td>\n",
       "      <td>2.3</td>\n",
       "      <td>Telnet</td>\n",
       "      <td>2</td>\n",
       "    </tr>\n",
       "    <tr>\n",
       "      <th>1</th>\n",
       "      <td>0.0283</td>\n",
       "      <td>0.480868</td>\n",
       "      <td>0.343477</td>\n",
       "      <td>1.4</td>\n",
       "      <td>Telnet</td>\n",
       "      <td>2</td>\n",
       "    </tr>\n",
       "    <tr>\n",
       "      <th>2</th>\n",
       "      <td>0.0835</td>\n",
       "      <td>0.348109</td>\n",
       "      <td>0.105487</td>\n",
       "      <td>3.3</td>\n",
       "      <td>Telnet</td>\n",
       "      <td>2</td>\n",
       "    </tr>\n",
       "    <tr>\n",
       "      <th>3</th>\n",
       "      <td>0.0924</td>\n",
       "      <td>0.775505</td>\n",
       "      <td>0.267415</td>\n",
       "      <td>2.9</td>\n",
       "      <td>Telnet</td>\n",
       "      <td>2</td>\n",
       "    </tr>\n",
       "    <tr>\n",
       "      <th>4</th>\n",
       "      <td>0.1122</td>\n",
       "      <td>0.632847</td>\n",
       "      <td>0.253139</td>\n",
       "      <td>2.5</td>\n",
       "      <td>Telnet</td>\n",
       "      <td>2</td>\n",
       "    </tr>\n",
       "  </tbody>\n",
       "</table>\n",
       "</div>"
      ],
      "text/plain": [
       "   avg_delay  avg_byte_rate  avg_packet_rate  avg_packet_size Protocol  \\\n",
       "0     0.0734       0.373261         0.162288              2.3   Telnet   \n",
       "1     0.0283       0.480868         0.343477              1.4   Telnet   \n",
       "2     0.0835       0.348109         0.105487              3.3   Telnet   \n",
       "3     0.0924       0.775505         0.267415              2.9   Telnet   \n",
       "4     0.1122       0.632847         0.253139              2.5   Telnet   \n",
       "\n",
       "   NumericalProtocol  \n",
       "0                  2  \n",
       "1                  2  \n",
       "2                  2  \n",
       "3                  2  \n",
       "4                  2  "
      ]
     },
     "execution_count": 3,
     "metadata": {},
     "output_type": "execute_result"
    }
   ],
   "source": [
    "df.head(5)"
   ]
  },
  {
   "cell_type": "code",
   "execution_count": 4,
   "metadata": {},
   "outputs": [
    {
     "data": {
      "text/plain": [
       "array(['Telnet', 'Quake3', 'DNS', 'csa', 'csi'], dtype=object)"
      ]
     },
     "execution_count": 4,
     "metadata": {},
     "output_type": "execute_result"
    }
   ],
   "source": [
    "df['Protocol'].unique()"
   ]
  },
  {
   "cell_type": "code",
   "execution_count": 5,
   "metadata": {},
   "outputs": [
    {
     "data": {
      "text/plain": [
       "array([2, 1, 0, 3, 4])"
      ]
     },
     "execution_count": 5,
     "metadata": {},
     "output_type": "execute_result"
    }
   ],
   "source": [
    "df['NumericalProtocol'].unique()"
   ]
  },
  {
   "cell_type": "code",
   "execution_count": 6,
   "metadata": {},
   "outputs": [
    {
     "data": {
      "text/html": [
       "<div>\n",
       "<style>\n",
       "    .dataframe thead tr:only-child th {\n",
       "        text-align: right;\n",
       "    }\n",
       "\n",
       "    .dataframe thead th {\n",
       "        text-align: left;\n",
       "    }\n",
       "\n",
       "    .dataframe tbody tr th {\n",
       "        vertical-align: top;\n",
       "    }\n",
       "</style>\n",
       "<table border=\"1\" class=\"dataframe\">\n",
       "  <thead>\n",
       "    <tr style=\"text-align: right;\">\n",
       "      <th></th>\n",
       "      <th>avg_delay</th>\n",
       "      <th>avg_byte_rate</th>\n",
       "      <th>avg_packet_rate</th>\n",
       "      <th>avg_packet_size</th>\n",
       "      <th>NumericalProtocol</th>\n",
       "    </tr>\n",
       "  </thead>\n",
       "  <tbody>\n",
       "    <tr>\n",
       "      <th>count</th>\n",
       "      <td>7275.000000</td>\n",
       "      <td>7275.000000</td>\n",
       "      <td>7275.000000</td>\n",
       "      <td>7275.000000</td>\n",
       "      <td>7275.000000</td>\n",
       "    </tr>\n",
       "    <tr>\n",
       "      <th>mean</th>\n",
       "      <td>0.100946</td>\n",
       "      <td>2.522336</td>\n",
       "      <td>0.086933</td>\n",
       "      <td>69.398735</td>\n",
       "      <td>2.000000</td>\n",
       "    </tr>\n",
       "    <tr>\n",
       "      <th>std</th>\n",
       "      <td>0.040371</td>\n",
       "      <td>4.026437</td>\n",
       "      <td>0.105519</td>\n",
       "      <td>73.676541</td>\n",
       "      <td>1.414311</td>\n",
       "    </tr>\n",
       "    <tr>\n",
       "      <th>min</th>\n",
       "      <td>0.019400</td>\n",
       "      <td>-0.059665</td>\n",
       "      <td>-0.000228</td>\n",
       "      <td>1.000000</td>\n",
       "      <td>0.000000</td>\n",
       "    </tr>\n",
       "    <tr>\n",
       "      <th>25%</th>\n",
       "      <td>0.081800</td>\n",
       "      <td>0.218368</td>\n",
       "      <td>0.025857</td>\n",
       "      <td>27.300000</td>\n",
       "      <td>1.000000</td>\n",
       "    </tr>\n",
       "    <tr>\n",
       "      <th>50%</th>\n",
       "      <td>0.092800</td>\n",
       "      <td>0.730842</td>\n",
       "      <td>0.026435</td>\n",
       "      <td>43.600000</td>\n",
       "      <td>2.000000</td>\n",
       "    </tr>\n",
       "    <tr>\n",
       "      <th>75%</th>\n",
       "      <td>0.109900</td>\n",
       "      <td>1.208330</td>\n",
       "      <td>0.147820</td>\n",
       "      <td>64.400000</td>\n",
       "      <td>3.000000</td>\n",
       "    </tr>\n",
       "    <tr>\n",
       "      <th>max</th>\n",
       "      <td>1.011300</td>\n",
       "      <td>25.733402</td>\n",
       "      <td>0.589797</td>\n",
       "      <td>262.000000</td>\n",
       "      <td>4.000000</td>\n",
       "    </tr>\n",
       "  </tbody>\n",
       "</table>\n",
       "</div>"
      ],
      "text/plain": [
       "         avg_delay  avg_byte_rate  avg_packet_rate  avg_packet_size  \\\n",
       "count  7275.000000    7275.000000      7275.000000      7275.000000   \n",
       "mean      0.100946       2.522336         0.086933        69.398735   \n",
       "std       0.040371       4.026437         0.105519        73.676541   \n",
       "min       0.019400      -0.059665        -0.000228         1.000000   \n",
       "25%       0.081800       0.218368         0.025857        27.300000   \n",
       "50%       0.092800       0.730842         0.026435        43.600000   \n",
       "75%       0.109900       1.208330         0.147820        64.400000   \n",
       "max       1.011300      25.733402         0.589797       262.000000   \n",
       "\n",
       "       NumericalProtocol  \n",
       "count        7275.000000  \n",
       "mean            2.000000  \n",
       "std             1.414311  \n",
       "min             0.000000  \n",
       "25%             1.000000  \n",
       "50%             2.000000  \n",
       "75%             3.000000  \n",
       "max             4.000000  "
      ]
     },
     "execution_count": 6,
     "metadata": {},
     "output_type": "execute_result"
    }
   ],
   "source": [
    "#high level stats overview \n",
    "df.describe()"
   ]
  },
  {
   "cell_type": "code",
   "execution_count": 7,
   "metadata": {},
   "outputs": [
    {
     "data": {
      "text/plain": [
       "csi       1455\n",
       "Quake3    1455\n",
       "Telnet    1455\n",
       "DNS       1455\n",
       "csa       1455\n",
       "Name: Protocol, dtype: int64"
      ]
     },
     "execution_count": 7,
     "metadata": {},
     "output_type": "execute_result"
    }
   ],
   "source": [
    "df['Protocol'].value_counts()"
   ]
  },
  {
   "cell_type": "code",
   "execution_count": 8,
   "metadata": {},
   "outputs": [
    {
     "data": {
      "text/plain": [
       "(7275, 6)"
      ]
     },
     "execution_count": 8,
     "metadata": {},
     "output_type": "execute_result"
    }
   ],
   "source": [
    "df = df.reindex(np.random.permutation(df.index))\n",
    "df.shape"
   ]
  },
  {
   "cell_type": "code",
   "execution_count": 9,
   "metadata": {},
   "outputs": [
    {
     "data": {
      "text/html": [
       "<div>\n",
       "<style>\n",
       "    .dataframe thead tr:only-child th {\n",
       "        text-align: right;\n",
       "    }\n",
       "\n",
       "    .dataframe thead th {\n",
       "        text-align: left;\n",
       "    }\n",
       "\n",
       "    .dataframe tbody tr th {\n",
       "        vertical-align: top;\n",
       "    }\n",
       "</style>\n",
       "<table border=\"1\" class=\"dataframe\">\n",
       "  <thead>\n",
       "    <tr style=\"text-align: right;\">\n",
       "      <th></th>\n",
       "      <th>avg_delay</th>\n",
       "      <th>avg_byte_rate</th>\n",
       "      <th>avg_packet_rate</th>\n",
       "      <th>avg_packet_size</th>\n",
       "      <th>Protocol</th>\n",
       "      <th>NumericalProtocol</th>\n",
       "    </tr>\n",
       "  </thead>\n",
       "  <tbody>\n",
       "    <tr>\n",
       "      <th>1841</th>\n",
       "      <td>0.1045</td>\n",
       "      <td>10.374328</td>\n",
       "      <td>0.163891</td>\n",
       "      <td>63.3</td>\n",
       "      <td>Quake3</td>\n",
       "      <td>1</td>\n",
       "    </tr>\n",
       "    <tr>\n",
       "      <th>323</th>\n",
       "      <td>0.1026</td>\n",
       "      <td>0.276817</td>\n",
       "      <td>0.138408</td>\n",
       "      <td>2.0</td>\n",
       "      <td>Telnet</td>\n",
       "      <td>2</td>\n",
       "    </tr>\n",
       "    <tr>\n",
       "      <th>2007</th>\n",
       "      <td>0.0903</td>\n",
       "      <td>10.171824</td>\n",
       "      <td>0.163797</td>\n",
       "      <td>62.1</td>\n",
       "      <td>Quake3</td>\n",
       "      <td>1</td>\n",
       "    </tr>\n",
       "    <tr>\n",
       "      <th>3665</th>\n",
       "      <td>0.0942</td>\n",
       "      <td>-0.053266</td>\n",
       "      <td>-0.000228</td>\n",
       "      <td>233.9</td>\n",
       "      <td>DNS</td>\n",
       "      <td>0</td>\n",
       "    </tr>\n",
       "    <tr>\n",
       "      <th>5172</th>\n",
       "      <td>0.0897</td>\n",
       "      <td>1.071266</td>\n",
       "      <td>0.025939</td>\n",
       "      <td>41.3</td>\n",
       "      <td>csa</td>\n",
       "      <td>3</td>\n",
       "    </tr>\n",
       "  </tbody>\n",
       "</table>\n",
       "</div>"
      ],
      "text/plain": [
       "      avg_delay  avg_byte_rate  avg_packet_rate  avg_packet_size Protocol  \\\n",
       "1841     0.1045      10.374328         0.163891             63.3   Quake3   \n",
       "323      0.1026       0.276817         0.138408              2.0   Telnet   \n",
       "2007     0.0903      10.171824         0.163797             62.1   Quake3   \n",
       "3665     0.0942      -0.053266        -0.000228            233.9      DNS   \n",
       "5172     0.0897       1.071266         0.025939             41.3      csa   \n",
       "\n",
       "      NumericalProtocol  \n",
       "1841                  1  \n",
       "323                   2  \n",
       "2007                  1  \n",
       "3665                  0  \n",
       "5172                  3  "
      ]
     },
     "execution_count": 9,
     "metadata": {},
     "output_type": "execute_result"
    }
   ],
   "source": [
    "df.head()"
   ]
  },
  {
   "cell_type": "markdown",
   "metadata": {},
   "source": [
    "\n",
    "### 2. Organised the train/test split and perform relevant scaling\n",
    "\n",
    "1. X_train matrix contains the training data\n",
    "2. y_train vector contains the training labels\n",
    "3. X_test matrix contains the test data\n",
    "4. y_test vector contains the test labels"
   ]
  },
  {
   "cell_type": "markdown",
   "metadata": {},
   "source": [
    "### No packet inspection (uses timing and rate data)"
   ]
  },
  {
   "cell_type": "code",
   "execution_count": 10,
   "metadata": {
    "collapsed": true
   },
   "outputs": [],
   "source": [
    "X = df[['avg_delay','avg_packet_rate']]\n",
    "#X = df[['avg_packet_rate']]\n",
    "y = df[['NumericalProtocol']]\n"
   ]
  },
  {
   "cell_type": "code",
   "execution_count": 11,
   "metadata": {},
   "outputs": [
    {
     "data": {
      "text/html": [
       "<div>\n",
       "<style>\n",
       "    .dataframe thead tr:only-child th {\n",
       "        text-align: right;\n",
       "    }\n",
       "\n",
       "    .dataframe thead th {\n",
       "        text-align: left;\n",
       "    }\n",
       "\n",
       "    .dataframe tbody tr th {\n",
       "        vertical-align: top;\n",
       "    }\n",
       "</style>\n",
       "<table border=\"1\" class=\"dataframe\">\n",
       "  <thead>\n",
       "    <tr style=\"text-align: right;\">\n",
       "      <th></th>\n",
       "      <th>avg_delay</th>\n",
       "      <th>avg_packet_rate</th>\n",
       "    </tr>\n",
       "  </thead>\n",
       "  <tbody>\n",
       "    <tr>\n",
       "      <th>1841</th>\n",
       "      <td>0.1045</td>\n",
       "      <td>0.163891</td>\n",
       "    </tr>\n",
       "    <tr>\n",
       "      <th>323</th>\n",
       "      <td>0.1026</td>\n",
       "      <td>0.138408</td>\n",
       "    </tr>\n",
       "    <tr>\n",
       "      <th>2007</th>\n",
       "      <td>0.0903</td>\n",
       "      <td>0.163797</td>\n",
       "    </tr>\n",
       "    <tr>\n",
       "      <th>3665</th>\n",
       "      <td>0.0942</td>\n",
       "      <td>-0.000228</td>\n",
       "    </tr>\n",
       "    <tr>\n",
       "      <th>5172</th>\n",
       "      <td>0.0897</td>\n",
       "      <td>0.025939</td>\n",
       "    </tr>\n",
       "  </tbody>\n",
       "</table>\n",
       "</div>"
      ],
      "text/plain": [
       "      avg_delay  avg_packet_rate\n",
       "1841     0.1045         0.163891\n",
       "323      0.1026         0.138408\n",
       "2007     0.0903         0.163797\n",
       "3665     0.0942        -0.000228\n",
       "5172     0.0897         0.025939"
      ]
     },
     "execution_count": 11,
     "metadata": {},
     "output_type": "execute_result"
    }
   ],
   "source": [
    "X.head()"
   ]
  },
  {
   "cell_type": "code",
   "execution_count": 12,
   "metadata": {},
   "outputs": [
    {
     "data": {
      "text/html": [
       "<div>\n",
       "<style>\n",
       "    .dataframe thead tr:only-child th {\n",
       "        text-align: right;\n",
       "    }\n",
       "\n",
       "    .dataframe thead th {\n",
       "        text-align: left;\n",
       "    }\n",
       "\n",
       "    .dataframe tbody tr th {\n",
       "        vertical-align: top;\n",
       "    }\n",
       "</style>\n",
       "<table border=\"1\" class=\"dataframe\">\n",
       "  <thead>\n",
       "    <tr style=\"text-align: right;\">\n",
       "      <th></th>\n",
       "      <th>NumericalProtocol</th>\n",
       "    </tr>\n",
       "  </thead>\n",
       "  <tbody>\n",
       "    <tr>\n",
       "      <th>1841</th>\n",
       "      <td>1</td>\n",
       "    </tr>\n",
       "    <tr>\n",
       "      <th>323</th>\n",
       "      <td>2</td>\n",
       "    </tr>\n",
       "    <tr>\n",
       "      <th>2007</th>\n",
       "      <td>1</td>\n",
       "    </tr>\n",
       "    <tr>\n",
       "      <th>3665</th>\n",
       "      <td>0</td>\n",
       "    </tr>\n",
       "    <tr>\n",
       "      <th>5172</th>\n",
       "      <td>3</td>\n",
       "    </tr>\n",
       "  </tbody>\n",
       "</table>\n",
       "</div>"
      ],
      "text/plain": [
       "      NumericalProtocol\n",
       "1841                  1\n",
       "323                   2\n",
       "2007                  1\n",
       "3665                  0\n",
       "5172                  3"
      ]
     },
     "execution_count": 12,
     "metadata": {},
     "output_type": "execute_result"
    }
   ],
   "source": [
    "y.head()"
   ]
  },
  {
   "cell_type": "markdown",
   "metadata": {},
   "source": [
    "### 3. Does a 80/20 train split then tries five different machine learning algorithms"
   ]
  },
  {
   "cell_type": "code",
   "execution_count": 13,
   "metadata": {},
   "outputs": [
    {
     "name": "stdout",
     "output_type": "stream",
     "text": [
      "The shape of the input features is: (7275, 2)\n",
      "The shape of the output is: (7275, 1)\n",
      "{'X_train size': (5820, 2), 'X_test size': (1455, 2), 'y_train size': (5820, 1), 'y_test size=': (1455, 1)}\n"
     ]
    }
   ],
   "source": [
    "X_train, X_test, y_train, y_test = train_test_split(X, y, test_size=0.2, random_state=42)\n",
    "\n",
    "print(\"The shape of the input features is:\", X.shape)\n",
    "print(\"The shape of the output is:\", y.shape)\n",
    "#test/train sizes\n",
    "tt_sizes ={\n",
    "    'X_train size' : X_train.shape,\n",
    "    'X_test size'  : X_test.shape,\n",
    "    'y_train size' : y_train.shape,\n",
    "    'y_test size=' : y_test.shape   \n",
    "}\n",
    "print(tt_sizes)"
   ]
  },
  {
   "cell_type": "code",
   "execution_count": 14,
   "metadata": {
    "collapsed": true
   },
   "outputs": [],
   "source": [
    "#scaling between 0 and 1\n",
    "min_max_scaler = preprocessing.MinMaxScaler()\n",
    "\n",
    "X_train = min_max_scaler.fit_transform(X_train)\n",
    "X_test = min_max_scaler.transform(X_test)"
   ]
  },
  {
   "cell_type": "code",
   "execution_count": 15,
   "metadata": {},
   "outputs": [
    {
     "data": {
      "text/plain": [
       "(5820, 2)"
      ]
     },
     "execution_count": 15,
     "metadata": {},
     "output_type": "execute_result"
    }
   ],
   "source": [
    "X_train.shape"
   ]
  },
  {
   "cell_type": "code",
   "execution_count": 16,
   "metadata": {},
   "outputs": [
    {
     "name": "stdout",
     "output_type": "stream",
     "text": [
      "Train accuracy: [82.96, 98.21, 70.74, 69.81, 59.81]\n",
      "Test accuracy:  [76.91, 76.08, 72.37, 71.75, 58.49]\n",
      "Execution time: [0.03, 0.12, 0.07, 0.07, 0.01]\n"
     ]
    }
   ],
   "source": [
    "train_accuracy = []\n",
    "test_accuracy = []\n",
    "execution_time = []\n",
    "models = [KNeighborsClassifier(),\n",
    "          RandomForestClassifier(),\n",
    "          LinearSVC(),\n",
    "          LogisticRegression(),\n",
    "          MultinomialNB()]\n",
    "         \n",
    "for clf in models:\n",
    "    t_start = time.process_time()\n",
    "    clf.fit(X_train, y_train)\n",
    "    train_pred = clf.predict(X_train)\n",
    "    test_pred = clf.predict(X_test)\n",
    "    train_accuracy.append(round(100*float(accuracy_score(y_train, train_pred)),2))\n",
    "    test_accuracy.append(round(100*float(accuracy_score(y_test, test_pred)),2))\n",
    "                         \n",
    "    execution_time.append(round((process_time() - t_start),2))\n",
    "print('Train accuracy:', train_accuracy )\n",
    "print('Test accuracy: ',test_accuracy)\n",
    "print('Execution time:', execution_time)"
   ]
  },
  {
   "cell_type": "markdown",
   "metadata": {},
   "source": [
    "#### 4. Using cross validation to check answer pre hyper tuning ( k = 5 )"
   ]
  },
  {
   "cell_type": "code",
   "execution_count": 17,
   "metadata": {},
   "outputs": [
    {
     "name": "stdout",
     "output_type": "stream",
     "text": [
      "The accuracy is: %0.25 0.744054982818\n",
      "The margin is: +/- %0.3f 0.0173348539056\n"
     ]
    }
   ],
   "source": [
    "clf = models[0]\n",
    "scores = cross_val_score(clf, X, y, cv=5)\n",
    "print(\"The accuracy is: %0.25\", scores.mean())\n",
    "print(\"The margin is: +/- %0.3f\", (scores.std() * 2))"
   ]
  },
  {
   "cell_type": "markdown",
   "metadata": {},
   "source": [
    "#### 5. Plot graph for part 3"
   ]
  },
  {
   "cell_type": "code",
   "execution_count": 18,
   "metadata": {
    "collapsed": true
   },
   "outputs": [],
   "source": [
    "def plot_train_test(train_acc,test_acc,tune=None):\n",
    "# This graph is based the example on scikit-learn example as stated in the header\n",
    "    n_groups = 5\n",
    "\n",
    "    # create plot\n",
    "    fig, ax = plt.subplots()\n",
    "    index = np.arange(n_groups)\n",
    "    bar_width = 0.35\n",
    "    opacity = 0.8\n",
    "\n",
    "    rects1 = plt.bar(index, train_acc, bar_width,\n",
    "                     alpha=opacity,\n",
    "                     color='b',\n",
    "                     label='Training')\n",
    "\n",
    "    rects2 = plt.bar(index + bar_width, test_acc, bar_width,\n",
    "                     alpha=opacity,\n",
    "                     color='g',\n",
    "                     label='Testing')\n",
    "\n",
    "    plt.xlabel('Train/Test split')\n",
    "    plt.ylabel('Training/Testing accuracy')\n",
    "    plt.title('Training and testing accuracy for five supervised learning algorithms')\n",
    "    plt.xticks(index + bar_width, ('KNN', 'RForest', 'SVM', 'LogisReg','NBayes'))\n",
    "    plt.legend()\n",
    "\n",
    "    plt.show()\n",
    "    #store the data distribution image as a png file\n",
    "    if tune == \"Normal\":\n",
    "        fig.savefig('Data/AccuracyGraphsNoHyp.png')\n",
    "    else:\n",
    "        #store the data distribution image as a png file\n",
    "        fig.savefig('Data/AccuracyGraphsWithHyp.png')\n",
    "        "
   ]
  },
  {
   "cell_type": "code",
   "execution_count": 19,
   "metadata": {},
   "outputs": [
    {
     "data": {
      "image/png": "[encoded data removed]",
      "text/plain": [
       "<matplotlib.figure.Figure at 0x7f9ab777fb70>"
      ]
     },
     "metadata": {},
     "output_type": "display_data"
    }
   ],
   "source": [
    "plot_train_test(train_accuracy,test_accuracy,tune=\"Normal\")"
   ]
  },
  {
   "cell_type": "markdown",
   "metadata": {},
   "source": [
    "### 6. Compute and draws the confusion matrix "
   ]
  },
  {
   "cell_type": "code",
   "execution_count": 20,
   "metadata": {},
   "outputs": [
    {
     "name": "stdout",
     "output_type": "stream",
     "text": [
      "1455\n"
     ]
    },
    {
     "data": {
      "text/plain": [
       "array([[  0, 303],\n",
       "       [  1, 273],\n",
       "       [  2, 291],\n",
       "       [  3, 285],\n",
       "       [  4, 303]])"
      ]
     },
     "execution_count": 20,
     "metadata": {},
     "output_type": "execute_result"
    }
   ],
   "source": [
    "from scipy.stats import itemfreq\n",
    "print(len(y_test))\n",
    "itemfreq(y_test)"
   ]
  },
  {
   "cell_type": "code",
   "execution_count": 21,
   "metadata": {},
   "outputs": [
    {
     "name": "stdout",
     "output_type": "stream",
     "text": [
      "1455\n"
     ]
    },
    {
     "data": {
      "text/plain": [
       "array([[  0, 314],\n",
       "       [  1, 529],\n",
       "       [  3, 612]])"
      ]
     },
     "execution_count": 21,
     "metadata": {},
     "output_type": "execute_result"
    }
   ],
   "source": [
    "print(len(test_pred))\n",
    "itemfreq(test_pred)"
   ]
  },
  {
   "cell_type": "code",
   "execution_count": 22,
   "metadata": {},
   "outputs": [
    {
     "data": {
      "text/plain": [
       "array([[303,   0,   0,   0,   0],\n",
       "       [  1, 269,   0,   3,   0],\n",
       "       [  0, 260,   0,  31,   0],\n",
       "       [  6,   0,   0, 279,   0],\n",
       "       [  4,   0,   0, 299,   0]])"
      ]
     },
     "execution_count": 22,
     "metadata": {},
     "output_type": "execute_result"
    }
   ],
   "source": [
    "cm_df =  confusion_matrix(y_test, test_pred)\n",
    "cm_df"
   ]
  },
  {
   "cell_type": "code",
   "execution_count": 23,
   "metadata": {},
   "outputs": [
    {
     "data": {
      "text/plain": [
       "array(['Quake3', 'Telnet', 'DNS', 'csa', 'csi'], dtype=object)"
      ]
     },
     "execution_count": 23,
     "metadata": {},
     "output_type": "execute_result"
    }
   ],
   "source": [
    "prot = df['Protocol'].unique()\n",
    "prot"
   ]
  },
  {
   "cell_type": "code",
   "execution_count": 24,
   "metadata": {},
   "outputs": [
    {
     "data": {
      "text/plain": [
       "array([1, 2, 0, 3, 4])"
      ]
     },
     "execution_count": 24,
     "metadata": {},
     "output_type": "execute_result"
    }
   ],
   "source": [
    "num_prot = df['NumericalProtocol'].unique()\n",
    "num_prot"
   ]
  },
  {
   "cell_type": "code",
   "execution_count": 25,
   "metadata": {},
   "outputs": [
    {
     "data": {
      "text/plain": [
       "array([['DNS', 'Quake3', 'Telnet', 'csa', 'csi'],\n",
       "       [0, 1, 2, 3, 4]], dtype=object)"
      ]
     },
     "execution_count": 25,
     "metadata": {},
     "output_type": "execute_result"
    }
   ],
   "source": [
    "prot_name_map =  np.sort(np.stack([prot,num_prot]),axis=1)\n",
    "prot_name_map"
   ]
  },
  {
   "cell_type": "code",
   "execution_count": 26,
   "metadata": {},
   "outputs": [
    {
     "data": {
      "image/png": "[encoded data removed]",
      "text/plain": [
       "<matplotlib.figure.Figure at 0x7f9aaec57fd0>"
      ]
     },
     "metadata": {},
     "output_type": "display_data"
    }
   ],
   "source": [
    "sn.set(font_scale=1.4)\n",
    "heatmap = sn.heatmap(cm_df, annot=True,annot_kws={\"size\": 8}, yticklabels=prot_name_map[:1][0],\n",
    "           xticklabels=prot_name_map[:1][0])# font size\n",
    "\n",
    "fig = heatmap.get_figure()\n",
    "fig.savefig(\"Data/Confusionmatrix.png\")"
   ]
  },
  {
   "cell_type": "markdown",
   "metadata": {},
   "source": [
    "### 7. This highlights the features that are most important to the ML algorithm\n",
    "**The code for retrieving important features is based on the example in scikit-learn  as stated in the header**"
   ]
  },
  {
   "cell_type": "code",
   "execution_count": 27,
   "metadata": {},
   "outputs": [
    {
     "name": "stdout",
     "output_type": "stream",
     "text": [
      "[ 0.20569764  0.79430236]\n"
     ]
    }
   ],
   "source": [
    "# fit an Extra Trees model to the data\n",
    "model = ExtraTreesClassifier()\n",
    "model.fit(X, y)\n",
    "# display the relative importance of each attribute\n",
    "print(model.feature_importances_)"
   ]
  },
  {
   "cell_type": "code",
   "execution_count": 28,
   "metadata": {},
   "outputs": [
    {
     "name": "stdout",
     "output_type": "stream",
     "text": [
      "The most important feature is avg_packet_rate , with a score of 0.794:\n",
      "The least important feature is avg_delay , with a score of 0.206000:\n"
     ]
    }
   ],
   "source": [
    "imp_features = model.feature_importances_\n",
    "max_pos = np.argmax(imp_features)\n",
    "min_pos = np.argmin(imp_features)\n",
    "\n",
    "print(\"The most important feature is %s , with a score of %.3f:\" % (X.columns[max_pos], \n",
    "                                                                    round(imp_features[max_pos],3)))\n",
    "print(\"The least important feature is %s , with a score of %f:\" % (X.columns[min_pos], \n",
    "                                                                   round(imp_features[min_pos],3)))"
   ]
  },
  {
   "cell_type": "code",
   "execution_count": 29,
   "metadata": {},
   "outputs": [
    {
     "data": {
      "text/plain": [
       "numpy.ndarray"
      ]
     },
     "execution_count": 29,
     "metadata": {},
     "output_type": "execute_result"
    }
   ],
   "source": [
    "type(X.values)"
   ]
  },
  {
   "cell_type": "markdown",
   "metadata": {},
   "source": [
    "### 8. Hyper parameter tuning for KNN"
   ]
  },
  {
   "cell_type": "code",
   "execution_count": 30,
   "metadata": {},
   "outputs": [
    {
     "name": "stdout",
     "output_type": "stream",
     "text": [
      "The best hyper parameters are:\n",
      " {'n_jobs': -1, 'n_neighbors': 20}\n"
     ]
    }
   ],
   "source": [
    "#these are some of the numerous hyper-parameters that can be tuned\n",
    "#by default the weight is uniform meaning the closest points have the same voting power as further ones\n",
    "#bestWeight = 'uniform'\n",
    "bestWeight = 'distance'\n",
    "\n",
    "clf = models[0]\n",
    "#Hyper Parameters combinations to check\n",
    "params = {'n_neighbors':[2,5,9,15,20,25,30,35,40,45,50],\n",
    "          'n_jobs':[-1]}\n",
    "\n",
    "#Making models with the hyper parameters in the params dict above\n",
    "model = GridSearchCV(clf, param_grid=params, n_jobs=-1)\n",
    "#Learning weights\n",
    "model.fit(X_train,y_train)\n",
    "\n",
    "print(\"The best hyper parameters are:\\n\",model.best_params_)\n"
   ]
  },
  {
   "cell_type": "code",
   "execution_count": 31,
   "metadata": {},
   "outputs": [
    {
     "name": "stdout",
     "output_type": "stream",
     "text": [
      "Train accuracy: [100.0, 98.14, 70.74, 69.81, 59.81]\n",
      "Test accuracy:  [76.08, 76.98, 72.37, 71.75, 58.49]\n",
      "Execution time: [0.05, 0.07, 0.05, 0.06, 0.01]\n"
     ]
    }
   ],
   "source": [
    "train_accuracy = []\n",
    "test_accuracy = []\n",
    "execution_time = []\n",
    "hyp_models = [KNeighborsClassifier(weights=bestWeight,\n",
    "                               n_neighbors=model.best_params_['n_neighbors']), \n",
    "          RandomForestClassifier(),\n",
    "          LinearSVC(), \n",
    "          LogisticRegression(),\n",
    "          MultinomialNB()]\n",
    "         \n",
    "for clf in hyp_models:\n",
    "    t_start = time.process_time()\n",
    "    clf.fit(X_train, y_train)\n",
    "    train_pred = clf.predict(X_train)\n",
    "    test_pred = clf.predict(X_test)\n",
    "    train_accuracy.append(round(100*float(accuracy_score(y_train, train_pred)),2))\n",
    "    test_accuracy.append(round(100*float(accuracy_score(y_test, test_pred)),2))\n",
    "                         \n",
    "    execution_time.append(round((process_time() - t_start),2))\n",
    "print('Train accuracy:', train_accuracy )\n",
    "print('Test accuracy: ',test_accuracy)\n",
    "print('Execution time:', execution_time)"
   ]
  },
  {
   "cell_type": "markdown",
   "metadata": {},
   "source": [
    "#### 9. Using cross validation to check answer post hyper tuning ( k = 5 )"
   ]
  },
  {
   "cell_type": "code",
   "execution_count": 32,
   "metadata": {},
   "outputs": [
    {
     "name": "stdout",
     "output_type": "stream",
     "text": [
      "The accuracy is: %0.25 0.750103092784\n",
      "The margin is: +/- %0.3f 0.0199118284121\n"
     ]
    }
   ],
   "source": [
    "clf = hyp_models[0]\n",
    "scores = cross_val_score(clf, X, y, cv=5)\n",
    "print(\"The accuracy is: %0.25\", scores.mean())\n",
    "print(\"The margin is: +/- %0.3f\", (scores.std() * 2))"
   ]
  },
  {
   "cell_type": "code",
   "execution_count": 33,
   "metadata": {},
   "outputs": [
    {
     "data": {
      "image/png": "[encoded data removed]",
      "text/plain": [
       "<matplotlib.figure.Figure at 0x7f9aaec09080>"
      ]
     },
     "metadata": {},
     "output_type": "display_data"
    }
   ],
   "source": [
    "plot_train_test(train_accuracy,test_accuracy,tune=\"HyperParameter\")"
   ]
  },
  {
   "cell_type": "markdown",
   "metadata": {},
   "source": [
    "#### 10. This color mesh shows the boundaries used for the classification for each component \n",
    "\n",
    "##### The code showing the decision boundaries is based on the example on scikit-learn as stated in the header"
   ]
  },
  {
   "cell_type": "code",
   "execution_count": 34,
   "metadata": {},
   "outputs": [
    {
     "data": {
      "text/plain": [
       "<matplotlib.figure.Figure at 0x7f9aaeb65cc0>"
      ]
     },
     "metadata": {},
     "output_type": "display_data"
    },
    {
     "data": {
      "image/png": "[encoded data removed]",
      "text/plain": [
       "<matplotlib.figure.Figure at 0x7f9aaeb65dd8>"
      ]
     },
     "metadata": {},
     "output_type": "display_data"
    }
   ],
   "source": [
    "h = .02  # step size in the mesh\n",
    "n_neighbors = 3\n",
    "\n",
    "cmap_light = ListedColormap(['#FFAAAA', '#AFFAAA', '#AAFFAA', '#AAAFFA', '#AAAAFF'])\n",
    "cmap_bold = ListedColormap(['#FF0000', '#0FF000', '#00FF00', '#000FF0', '#0000FF'])\n",
    "\n",
    "X = X.values\n",
    "y = np.squeeze(y.values)\n",
    "\n",
    "\n",
    "# we create an instance of Neighbours Classifier and fit the data.\n",
    "clf = neighbors.KNeighborsClassifier(n_neighbors,  weights=bestWeight)\n",
    "\n",
    "clf.fit(X, y)\n",
    "\n",
    "# Plot the decision boundary. For that, we will assign a color to each\n",
    "# point in the mesh [x_min, x_max]x[y_min, y_max].\n",
    "x_min, x_max = np.min(X,axis=0)[0], np.max(X,axis=0)[0] \n",
    "y_min, y_max = np.min(X,axis=0)[1],np.max(X,axis=0)[1] \n",
    "\n",
    "xx, yy = np.meshgrid(np.arange(x_min, x_max, h),\n",
    "                     np.arange(y_min, y_max, h))\n",
    "Z = clf.predict(np.c_[xx.ravel(), yy.ravel()])\n",
    "\n",
    "# Put the result into a color plot\n",
    "Z = Z.reshape(xx.shape)\n",
    "fig = plt.figure()\n",
    "plt.figure()\n",
    "plt.pcolormesh(xx, yy, Z, cmap=cmap_light)\n",
    "\n",
    "# Plot also the training points\n",
    "plt.scatter(X[:, 0], X[:, 1], c=y, cmap=cmap_bold,\n",
    "            edgecolor='k', s=20)\n",
    "plt.xlim(xx.min(), xx.max())\n",
    "plt.ylim(yy.min(), yy.max())\n",
    "plt.title(\"5 Class classification (k = %i')\" % (n_neighbors))\n",
    "\n",
    "plt.show()"
   ]
  },
  {
   "cell_type": "code",
   "execution_count": 35,
   "metadata": {
    "collapsed": true
   },
   "outputs": [],
   "source": [
    "cm_df =  confusion_matrix(y_test, test_pred)\n"
   ]
  },
  {
   "cell_type": "code",
   "execution_count": 36,
   "metadata": {},
   "outputs": [
    {
     "data": {
      "image/png": "[encoded data removed]",
      "text/plain": [
       "<matplotlib.figure.Figure at 0x7f9aaebff5f8>"
      ]
     },
     "metadata": {},
     "output_type": "display_data"
    }
   ],
   "source": [
    "\n",
    "sn.set(font_scale=1.4)\n",
    "heatmap = sn.heatmap(cm_df, annot=True,annot_kws={\"size\": 8}, yticklabels=prot_name_map[:1][0],\n",
    "           xticklabels=prot_name_map[:1][0])# font size\n",
    "\n",
    "fig = heatmap.get_figure()\n",
    "fig.savefig(\"Data/Confusionmatrix.png\")"
   ]
  },
  {
   "cell_type": "code",
   "execution_count": 37,
   "metadata": {},
   "outputs": [
    {
     "data": {
      "text/plain": [
       "(7275, 6)"
      ]
     },
     "execution_count": 37,
     "metadata": {},
     "output_type": "execute_result"
    }
   ],
   "source": [
    "#import cleaned data set\n",
    "df = pd.read_csv(\"Data/ReadyFeatureExtraction_Uniform.csv\",index_col=0) \n",
    "df = df.reindex(np.random.permutation(df.index))\n",
    "df.shape"
   ]
  },
  {
   "cell_type": "markdown",
   "metadata": {},
   "source": [
    "### 11. Shallow Packet Inspect Inspection (uses timing, size and rate)"
   ]
  },
  {
   "cell_type": "code",
   "execution_count": 38,
   "metadata": {
    "collapsed": true
   },
   "outputs": [],
   "source": [
    "X = df[['avg_delay','avg_byte_rate','avg_packet_rate','avg_packet_size']]\n",
    "y = df[['NumericalProtocol']]\n",
    "\n",
    "X_train, X_test, y_train, y_test = train_test_split(X, y, test_size=0.2, random_state=42)\n",
    "#scaling between 0 and 1\n",
    "min_max_scaler = preprocessing.MinMaxScaler()\n",
    "\n",
    "X_train = min_max_scaler.fit_transform(X_train)\n",
    "X_test = min_max_scaler.transform(X_test)\n"
   ]
  },
  {
   "cell_type": "code",
   "execution_count": 39,
   "metadata": {},
   "outputs": [
    {
     "name": "stdout",
     "output_type": "stream",
     "text": [
      "Train accuracy: [99.95, 100.0, 97.66, 95.45, 79.4]\n",
      "Test accuracy:  [100.0, 100.0, 98.35, 96.01, 77.94]\n",
      "Execution time: [0.04, 0.05, 0.03, 0.08, 0.01]\n"
     ]
    }
   ],
   "source": [
    "train_accuracy = []\n",
    "test_accuracy = []\n",
    "execution_time = []\n",
    "models = [KNeighborsClassifier(),\n",
    "          RandomForestClassifier(),\n",
    "          LinearSVC(),\n",
    "          LogisticRegression(),\n",
    "          MultinomialNB()]\n",
    "         \n",
    "for clf in models:\n",
    "    t_start = time.process_time()\n",
    "    clf.fit(X_train, y_train)\n",
    "    train_pred = clf.predict(X_train)\n",
    "    test_pred = clf.predict(X_test)\n",
    "    train_accuracy.append(round(100*float(accuracy_score(y_train, train_pred)),2))\n",
    "    test_accuracy.append(round(100*float(accuracy_score(y_test, test_pred)),2))\n",
    "                         \n",
    "    execution_time.append(round((process_time() - t_start),2))\n",
    "print('Train accuracy:', train_accuracy )\n",
    "print('Test accuracy: ',test_accuracy)\n",
    "print('Execution time:', execution_time)"
   ]
  },
  {
   "cell_type": "code",
   "execution_count": 40,
   "metadata": {},
   "outputs": [
    {
     "name": "stdout",
     "output_type": "stream",
     "text": [
      "The accuracy is: 1.000\n",
      "The margin is: +/- 0.000\n"
     ]
    }
   ],
   "source": [
    "clf = models[0]\n",
    "scores = cross_val_score(clf, X, y, cv=5)\n",
    "print(\"The accuracy is: %0.3f\" % (scores.mean()))\n",
    "print(\"The margin is: +/- %0.3f\"%(scores.std() * 2))"
   ]
  },
  {
   "cell_type": "code",
   "execution_count": 41,
   "metadata": {},
   "outputs": [
    {
     "data": {
      "image/png": "[encoded data removed]",
      "text/plain": [
       "<matplotlib.figure.Figure at 0x7f9aaeb4e9e8>"
      ]
     },
     "metadata": {},
     "output_type": "display_data"
    }
   ],
   "source": [
    "plot_train_test(train_accuracy,test_accuracy,tune=\"Normal\")"
   ]
  }
 ],
 "metadata": {
  "kernelspec": {
   "display_name": "Python 3",
   "language": "python",
   "name": "python3"
  },
  "language_info": {
   "codemirror_mode": {
    "name": "ipython",
    "version": 3
   },
   "file_extension": ".py",
   "mimetype": "text/x-python",
   "name": "python",
   "nbconvert_exporter": "python",
   "pygments_lexer": "ipython3",
   "version": "3.6.3"
  }
 },
 "nbformat": 4,
 "nbformat_minor": 2
}
