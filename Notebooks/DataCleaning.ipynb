{
 "cells": [
  {
   "cell_type": "markdown",
   "metadata": {},
   "source": [
    "##### Author: Chibueze Ukachi\n",
    "##### This notebook cleans the data and extracts relevant features \n",
    "\n",
    "#### Full code written by author \n"
   ]
  },
  {
   "cell_type": "markdown",
   "metadata": {},
   "source": [
    "#### Network Traffic Data Cleaning based on the output of Mininet Software Defined Networking (SDN) emulation of National Science Foundation (NSF) Topology using the Distributed Internet Traffic Generator to generate the traffic of different application layer protocols "
   ]
  },
  {
   "cell_type": "code",
   "execution_count": 1,
   "metadata": {
    "collapsed": true
   },
   "outputs": [],
   "source": [
    "#load relevant libraries \n",
    "%matplotlib inline\n",
    "import matplotlib.pyplot as plt\n",
    "\n",
    "import numpy as np\n",
    "import pandas as pd\n",
    "from sklearn.preprocessing import LabelEncoder"
   ]
  },
  {
   "cell_type": "markdown",
   "metadata": {},
   "source": [
    "### Example workflow using Telnet Protocol"
   ]
  },
  {
   "cell_type": "code",
   "execution_count": 2,
   "metadata": {},
   "outputs": [
    {
     "data": {
      "text/plain": [
       "(14553, 8)"
      ]
     },
     "execution_count": 2,
     "metadata": {},
     "output_type": "execute_result"
    }
   ],
   "source": [
    "telnet_arr = np.loadtxt('Data/dec_recv_Telnet.log.dat')\n",
    "telnet_arr.shape"
   ]
  },
  {
   "cell_type": "markdown",
   "metadata": {},
   "source": [
    "#### The window size is a hyper paramater chosen by the user. Any window size greater than 3 should work fine. \n",
    "#### Note that large windows result in less data for the algorithm to learn from "
   ]
  },
  {
   "cell_type": "code",
   "execution_count": 3,
   "metadata": {
    "collapsed": true
   },
   "outputs": [],
   "source": [
    "#arbitrary window size \n",
    "pkt_window_size = 10"
   ]
  },
  {
   "cell_type": "code",
   "execution_count": 4,
   "metadata": {
    "collapsed": true
   },
   "outputs": [],
   "source": [
    "#input and output data columns\n",
    "df_columns = ['Index','Flow','Src_Port','txTime','Dest_Port','Seq','rxTime','Size']\n",
    "out_cols = ['avg_delay','avg_byte_rate','avg_packet_rate','avg_packet_size','Protocol']"
   ]
  },
  {
   "cell_type": "code",
   "execution_count": 5,
   "metadata": {},
   "outputs": [
    {
     "data": {
      "text/html": [
       "<div>\n",
       "<style>\n",
       "    .dataframe thead tr:only-child th {\n",
       "        text-align: right;\n",
       "    }\n",
       "\n",
       "    .dataframe thead th {\n",
       "        text-align: left;\n",
       "    }\n",
       "\n",
       "    .dataframe tbody tr th {\n",
       "        vertical-align: top;\n",
       "    }\n",
       "</style>\n",
       "<table border=\"1\" class=\"dataframe\">\n",
       "  <thead>\n",
       "    <tr style=\"text-align: right;\">\n",
       "      <th></th>\n",
       "      <th>Index</th>\n",
       "      <th>Flow</th>\n",
       "      <th>Src_Port</th>\n",
       "      <th>txTime</th>\n",
       "      <th>Dest_Port</th>\n",
       "      <th>Seq</th>\n",
       "      <th>rxTime</th>\n",
       "      <th>Size</th>\n",
       "      <th>Protocol</th>\n",
       "    </tr>\n",
       "  </thead>\n",
       "  <tbody>\n",
       "    <tr>\n",
       "      <th>0</th>\n",
       "      <td>1.0</td>\n",
       "      <td>2.0</td>\n",
       "      <td>24.0</td>\n",
       "      <td>23.127190</td>\n",
       "      <td>2.0</td>\n",
       "      <td>24.0</td>\n",
       "      <td>23.127246</td>\n",
       "      <td>4.0</td>\n",
       "      <td>Telnet</td>\n",
       "    </tr>\n",
       "    <tr>\n",
       "      <th>1</th>\n",
       "      <td>2.0</td>\n",
       "      <td>2.0</td>\n",
       "      <td>24.0</td>\n",
       "      <td>23.128729</td>\n",
       "      <td>2.0</td>\n",
       "      <td>24.0</td>\n",
       "      <td>23.128788</td>\n",
       "      <td>3.0</td>\n",
       "      <td>Telnet</td>\n",
       "    </tr>\n",
       "    <tr>\n",
       "      <th>2</th>\n",
       "      <td>3.0</td>\n",
       "      <td>2.0</td>\n",
       "      <td>24.0</td>\n",
       "      <td>23.150484</td>\n",
       "      <td>2.0</td>\n",
       "      <td>24.0</td>\n",
       "      <td>23.150578</td>\n",
       "      <td>1.0</td>\n",
       "      <td>Telnet</td>\n",
       "    </tr>\n",
       "    <tr>\n",
       "      <th>3</th>\n",
       "      <td>4.0</td>\n",
       "      <td>2.0</td>\n",
       "      <td>24.0</td>\n",
       "      <td>23.153594</td>\n",
       "      <td>2.0</td>\n",
       "      <td>24.0</td>\n",
       "      <td>23.153682</td>\n",
       "      <td>1.0</td>\n",
       "      <td>Telnet</td>\n",
       "    </tr>\n",
       "    <tr>\n",
       "      <th>4</th>\n",
       "      <td>5.0</td>\n",
       "      <td>2.0</td>\n",
       "      <td>24.0</td>\n",
       "      <td>23.159169</td>\n",
       "      <td>2.0</td>\n",
       "      <td>24.0</td>\n",
       "      <td>23.159255</td>\n",
       "      <td>1.0</td>\n",
       "      <td>Telnet</td>\n",
       "    </tr>\n",
       "  </tbody>\n",
       "</table>\n",
       "</div>"
      ],
      "text/plain": [
       "   Index  Flow  Src_Port     txTime  Dest_Port   Seq     rxTime  Size Protocol\n",
       "0    1.0   2.0      24.0  23.127190        2.0  24.0  23.127246   4.0   Telnet\n",
       "1    2.0   2.0      24.0  23.128729        2.0  24.0  23.128788   3.0   Telnet\n",
       "2    3.0   2.0      24.0  23.150484        2.0  24.0  23.150578   1.0   Telnet\n",
       "3    4.0   2.0      24.0  23.153594        2.0  24.0  23.153682   1.0   Telnet\n",
       "4    5.0   2.0      24.0  23.159169        2.0  24.0  23.159255   1.0   Telnet"
      ]
     },
     "execution_count": 5,
     "metadata": {},
     "output_type": "execute_result"
    }
   ],
   "source": [
    "#telnet dataframe \n",
    "telnet_df =pd.DataFrame(data = telnet_arr, \n",
    "                 columns= df_columns )\n",
    "telnet_df['Protocol']='Telnet'\n",
    "mod_telnet_df = pd.DataFrame(columns=out_cols)\n",
    "telnet_df.head()"
   ]
  },
  {
   "cell_type": "markdown",
   "metadata": {},
   "source": [
    "### Feature Extraction \n",
    "\n",
    "1. Standardise the dataset to be a multiple of the window size\n",
    "2. Retrieve the average packet delay \n",
    "3. Compute average packet size\n",
    "4. Compute average byte size\n",
    "5. Compute average packet rate\n",
    "6. Combine/concatenate all the features for each application level protocol\n",
    "7. Use the label encoder to map categorical values to numerical variables\n",
    "8. Show the distribution of data\n",
    "\n",
    "###### Please note that the non-uniform data set by running all the protocols for the  duration of 60000ms \n",
    "###### On the other hand, the uniform data was gained by running the protocols for different times then reducing the length of the data acquired to the protocol with the least number of samples"
   ]
  },
  {
   "cell_type": "markdown",
   "metadata": {},
   "source": [
    "### 1. This standardises the length by making each application layer protocol such as Telnet a multiple of the window size"
   ]
  },
  {
   "cell_type": "code",
   "execution_count": 6,
   "metadata": {},
   "outputs": [
    {
     "name": "stdout",
     "output_type": "stream",
     "text": [
      "Original array:  (14553, 9)\n",
      "Modified array : (14550, 9)\n"
     ]
    }
   ],
   "source": [
    "print(\"Original array: \", telnet_df.shape)\n",
    "std_quotient = len(telnet_df) - len(telnet_df)%pkt_window_size\n",
    "len_quotient = int(std_quotient/pkt_window_size)\n",
    "std_df = telnet_df.iloc[:std_quotient,:]\n",
    "print(\"Modified array :\", std_df.shape )"
   ]
  },
  {
   "cell_type": "markdown",
   "metadata": {},
   "source": [
    "### 2. The average delay is calculated via the one-way travel time over the window size. This is done by reshaping the array to include a dimension for the window axis then calculating the mean across the new axis \n",
    "\n",
    "- W (samples) = window size\n",
    "- Delay (ms) = Receiver Time - Trasmitter Time \n",
    "\n",
    "\n",
    "$$  AverageDelay = \\frac{1}{W}{\\sum_{i=0}^{W-1}receiverTime_{i}-transmitterTime_{i}}$$\n"
   ]
  },
  {
   "cell_type": "code",
   "execution_count": 7,
   "metadata": {
    "collapsed": true
   },
   "outputs": [],
   "source": [
    "delay_arr = std_df['rxTime'].values - std_df['txTime'].values\n",
    "avg_delay = np.mean(np.reshape(delay_arr,(len_quotient,pkt_window_size)),1)\n",
    "mod_telnet_df['avg_delay'] = avg_delay"
   ]
  },
  {
   "cell_type": "markdown",
   "metadata": {},
   "source": [
    "### 3. The average packet size is calculated as the total number of bytes transmitted in the given window. This is also done by reshaping the array to include a dimension for the window axis then calculating the mean across the new axis \n",
    "\n",
    "\n",
    "- W (samples) = window size\n",
    "\n",
    "$$  AveragePacketSize = \\frac{1}{W}{\\sum_{i=0}^{W-1}{byteSize_{i}}}$$\n",
    "\n",
    "***Note that a byte is 8 bits***"
   ]
  },
  {
   "cell_type": "code",
   "execution_count": 8,
   "metadata": {
    "collapsed": true
   },
   "outputs": [],
   "source": [
    "byte_arr = std_df['Size'].values\n",
    "avg_pkt_size_arr = np.mean(np.reshape(byte_arr,(len_quotient,pkt_window_size)),1)\n",
    "\n",
    "mod_telnet_df['avg_packet_size'] = avg_pkt_size_arr"
   ]
  },
  {
   "cell_type": "markdown",
   "metadata": {},
   "source": [
    "### 4. The average byte rate is calculated over the total number of bytes received over the window size divided by the duration of the window. \n",
    "\n",
    "\n",
    "- W = This is the window size\n",
    "- Duration = End time - Start time of the receiver window\n",
    "\n",
    "\n",
    "$$  AverageByteRate = \\frac{{\\sum_{i=0}^{W-1}{byteSize_{i}}}}{duration}$$\n",
    "\n",
    "***Please note the weighting function is the duration and not the window size***"
   ]
  },
  {
   "cell_type": "code",
   "execution_count": 9,
   "metadata": {
    "collapsed": true
   },
   "outputs": [],
   "source": [
    "total_byte_sum  = np.sum(np.reshape(byte_arr,(len_quotient,pkt_window_size)),1)\n",
    "\n",
    "rxTime_arr = std_df['rxTime'].values\n",
    "rxTime_arr_mod = np.reshape(rxTime_arr,(len_quotient,pkt_window_size))\n",
    "rcv_window_duration = rxTime_arr_mod[:,-1] - rxTime_arr_mod[:,0]\n",
    "\n",
    "mod_telnet_df['avg_byte_rate'] = total_byte_sum/rcv_window_duration"
   ]
  },
  {
   "cell_type": "markdown",
   "metadata": {},
   "source": [
    "### 5. The average packet rate is the number of packets  transmitted during the duration of the given window \n",
    "$$ AveragePacketRate = \\frac{numPacketsPerWindow}{duration}$$"
   ]
  },
  {
   "cell_type": "code",
   "execution_count": 10,
   "metadata": {
    "collapsed": true
   },
   "outputs": [],
   "source": [
    "#this is true as there is one packet per sample\n",
    "num_packets_in_windows = pkt_window_size\n",
    "\n",
    "mod_telnet_df['avg_packet_rate'] =  num_packets_in_windows/rcv_window_duration\n",
    "mod_telnet_df['Protocol']='Telnet'"
   ]
  },
  {
   "cell_type": "code",
   "execution_count": 11,
   "metadata": {},
   "outputs": [
    {
     "name": "stdout",
     "output_type": "stream",
     "text": [
      "The Modifield Telnet dataframe with features extracted: (1455, 5)\n"
     ]
    },
    {
     "data": {
      "text/html": [
       "<div>\n",
       "<style>\n",
       "    .dataframe thead tr:only-child th {\n",
       "        text-align: right;\n",
       "    }\n",
       "\n",
       "    .dataframe thead th {\n",
       "        text-align: left;\n",
       "    }\n",
       "\n",
       "    .dataframe tbody tr th {\n",
       "        vertical-align: top;\n",
       "    }\n",
       "</style>\n",
       "<table border=\"1\" class=\"dataframe\">\n",
       "  <thead>\n",
       "    <tr style=\"text-align: right;\">\n",
       "      <th></th>\n",
       "      <th>avg_delay</th>\n",
       "      <th>avg_byte_rate</th>\n",
       "      <th>avg_packet_rate</th>\n",
       "      <th>avg_packet_size</th>\n",
       "      <th>Protocol</th>\n",
       "    </tr>\n",
       "  </thead>\n",
       "  <tbody>\n",
       "    <tr>\n",
       "      <th>0</th>\n",
       "      <td>0.000073</td>\n",
       "      <td>373.261494</td>\n",
       "      <td>162.287606</td>\n",
       "      <td>2.3</td>\n",
       "      <td>Telnet</td>\n",
       "    </tr>\n",
       "    <tr>\n",
       "      <th>1</th>\n",
       "      <td>0.000028</td>\n",
       "      <td>480.868311</td>\n",
       "      <td>343.477365</td>\n",
       "      <td>1.4</td>\n",
       "      <td>Telnet</td>\n",
       "    </tr>\n",
       "    <tr>\n",
       "      <th>2</th>\n",
       "      <td>0.000084</td>\n",
       "      <td>348.108610</td>\n",
       "      <td>105.487458</td>\n",
       "      <td>3.3</td>\n",
       "      <td>Telnet</td>\n",
       "    </tr>\n",
       "    <tr>\n",
       "      <th>3</th>\n",
       "      <td>0.000092</td>\n",
       "      <td>775.504747</td>\n",
       "      <td>267.415430</td>\n",
       "      <td>2.9</td>\n",
       "      <td>Telnet</td>\n",
       "    </tr>\n",
       "    <tr>\n",
       "      <th>4</th>\n",
       "      <td>0.000112</td>\n",
       "      <td>632.847307</td>\n",
       "      <td>253.138923</td>\n",
       "      <td>2.5</td>\n",
       "      <td>Telnet</td>\n",
       "    </tr>\n",
       "  </tbody>\n",
       "</table>\n",
       "</div>"
      ],
      "text/plain": [
       "   avg_delay  avg_byte_rate  avg_packet_rate  avg_packet_size Protocol\n",
       "0   0.000073     373.261494       162.287606              2.3   Telnet\n",
       "1   0.000028     480.868311       343.477365              1.4   Telnet\n",
       "2   0.000084     348.108610       105.487458              3.3   Telnet\n",
       "3   0.000092     775.504747       267.415430              2.9   Telnet\n",
       "4   0.000112     632.847307       253.138923              2.5   Telnet"
      ]
     },
     "execution_count": 11,
     "metadata": {},
     "output_type": "execute_result"
    }
   ],
   "source": [
    "print(\"The Modifield Telnet dataframe with features extracted:\", mod_telnet_df.shape)\n",
    "mod_telnet_df.head()"
   ]
  },
  {
   "cell_type": "markdown",
   "metadata": {},
   "source": [
    "### 6. The feature extractor collates all the calculations to retrieve the average delay, byte rate, packet rate and packet size within the specified window into a single function. This is performed for each application layer protocol"
   ]
  },
  {
   "cell_type": "code",
   "execution_count": 12,
   "metadata": {
    "collapsed": true
   },
   "outputs": [],
   "source": [
    "non_uniform_files = {\n",
    "    'Telnet' : np.loadtxt('Data/receiv_log_file_Telnet.dat'),\n",
    "    'Quake3' : np.loadtxt('Data/receiv_log_file_Quake3.dat'),\n",
    "    'DNS'    : np.loadtxt('Data/receiv_log_file_DNS.dat'),\n",
    "    'csa'    : np.loadtxt('Data/receiv_log_file_csa.dat'),\n",
    "    'csi'    : np.loadtxt('Data/receiv_log_file_csi.dat')\n",
    "}"
   ]
  },
  {
   "cell_type": "code",
   "execution_count": 13,
   "metadata": {
    "collapsed": true
   },
   "outputs": [],
   "source": [
    "uniform_files = {\n",
    "    'Telnet' : np.loadtxt('Data/dec_recv_Telnet.log.dat'),\n",
    "    'Quake3' : np.loadtxt('Data/dec_recv_Quake3.log.dat'),\n",
    "    'DNS'    : np.loadtxt('Data/dec_recv_dns.log.dat'),\n",
    "    'csa'    : np.loadtxt('Data/dec_recv_csa.log.dat'),\n",
    "    'csi'    : np.loadtxt('Data/dec_recv_csi.log.dat')\n",
    "}"
   ]
  },
  {
   "cell_type": "code",
   "execution_count": 14,
   "metadata": {
    "collapsed": true
   },
   "outputs": [],
   "source": [
    "def feature_extractor(prot_name,np_arr, window_size, ref_cols,output_cols, balance = None):\n",
    "    \n",
    "    \"\"\" This returns the extraction of features using the meta data containing just \n",
    "        the transmission/receiver times and the individual packet size \n",
    " \n",
    "        It returns a dataframe containing the average delay,byte_rate, packet_rate, packet_size and protocol \n",
    "        \n",
    "        Note: it is simply a concise summary of 2-5 explained above\n",
    "    \"\"\"\n",
    "    \n",
    "    inp_df = pd.DataFrame(data = np_arr, columns= ref_cols )   \n",
    "    inp_df['Protocol'] = prot_name\n",
    "    inp_df['rxTime'] = 1000* inp_df['rxTime']\n",
    "    inp_df['txTime'] = 1000* inp_df['txTime']\n",
    "    \n",
    " \n",
    "    standard_quotient = len(inp_df) - len(inp_df)% window_size    \n",
    "    length_quotient = int(standard_quotient/window_size)\n",
    "\n",
    "    standard_df = inp_df.iloc[:standard_quotient,:]\n",
    "    \n",
    "    delay_array = standard_df['rxTime'].values - standard_df['txTime'].values\n",
    "    average_delay = np.mean(np.reshape(delay_array,(length_quotient,window_size)),1)\n",
    "    #average_delay = np.std(np.reshape(delay_array,(length_quotient,window_size)),1)\n",
    "\n",
    "    byte_array = standard_df['Size'].values\n",
    "    avg_pkt_size_array = np.mean(np.reshape(byte_array,(length_quotient,window_size)),1)\n",
    "    \n",
    "    total_bytes_sum  = np.sum(np.reshape(byte_array,(length_quotient,window_size)),1)\n",
    "\n",
    "    rxTime_array = standard_df['rxTime'].values\n",
    "    rxTime_array_mod = np.reshape(rxTime_array,(length_quotient,window_size))\n",
    "\n",
    "    recv_window_duration = rxTime_array_mod[:,-1] - rxTime_array_mod[:,0]\n",
    "    \n",
    "    output_df = pd.DataFrame(columns=output_cols)\n",
    "    \n",
    "    output_df['avg_delay'] = average_delay\n",
    "    output_df['avg_packet_size'] = avg_pkt_size_array\n",
    "    output_df['avg_byte_rate'] = total_bytes_sum/recv_window_duration\n",
    "    output_df['avg_packet_rate'] = window_size/recv_window_duration\n",
    "    output_df['Protocol']= prot_name  \n",
    "    \n",
    "    return output_df    "
   ]
  },
  {
   "cell_type": "code",
   "execution_count": 15,
   "metadata": {
    "collapsed": true
   },
   "outputs": [],
   "source": [
    "def df_collator(files, balance = None):\n",
    "    total_df_arr = []\n",
    "    for file_name, data_array in files.items():\n",
    "        prot_df = feature_extractor(file_name, data_array,\n",
    "                      pkt_window_size,df_columns,out_cols, balance = \"Uniform\")\n",
    "        total_df_arr.append(prot_df)\n",
    "\n",
    "    total_df = pd.concat(total_df_arr, ignore_index=True)\n",
    "    \n",
    "    if balance == \"Uniform\":\n",
    "        tdf_vals = total_df.Protocol.value_counts()\n",
    "        min_tdf = np.min(tdf_vals.values)\n",
    "\n",
    "        total_df = total_df.groupby('Protocol').head(min_tdf)\n",
    "    \n",
    "    return total_df\n",
    "        \n"
   ]
  },
  {
   "cell_type": "code",
   "execution_count": 16,
   "metadata": {},
   "outputs": [
    {
     "data": {
      "text/plain": [
       "Quake3    8199\n",
       "Telnet    3340\n",
       "csa       2606\n",
       "csi       1422\n",
       "DNS        100\n",
       "Name: Protocol, dtype: int64"
      ]
     },
     "execution_count": 16,
     "metadata": {},
     "output_type": "execute_result"
    }
   ],
   "source": [
    "total_df_nu = df_collator(non_uniform_files)\n",
    "total_df_nu['Protocol'].value_counts()"
   ]
  },
  {
   "cell_type": "code",
   "execution_count": 17,
   "metadata": {},
   "outputs": [
    {
     "data": {
      "text/plain": [
       "csi       1455\n",
       "DNS       1455\n",
       "Telnet    1455\n",
       "csa       1455\n",
       "Quake3    1455\n",
       "Name: Protocol, dtype: int64"
      ]
     },
     "execution_count": 17,
     "metadata": {},
     "output_type": "execute_result"
    }
   ],
   "source": [
    "total_df_u = df_collator(uniform_files, balance = \"Uniform\")\n",
    "total_df_u['Protocol'].value_counts()"
   ]
  },
  {
   "cell_type": "markdown",
   "metadata": {},
   "source": [
    "### 7 . The Label Encoder is used to transform categorical variables into numerical variable, which is easier for machine learning computation"
   ]
  },
  {
   "cell_type": "code",
   "execution_count": 18,
   "metadata": {
    "collapsed": true
   },
   "outputs": [],
   "source": [
    "le = LabelEncoder()\n",
    "le.fit(total_df_nu['Protocol'].values)\n",
    "total_df_nu['NumericalProtocol'] = le.transform(total_df_nu['Protocol'].values)"
   ]
  },
  {
   "cell_type": "code",
   "execution_count": 19,
   "metadata": {},
   "outputs": [
    {
     "data": {
      "text/html": [
       "<div>\n",
       "<style>\n",
       "    .dataframe thead tr:only-child th {\n",
       "        text-align: right;\n",
       "    }\n",
       "\n",
       "    .dataframe thead th {\n",
       "        text-align: left;\n",
       "    }\n",
       "\n",
       "    .dataframe tbody tr th {\n",
       "        vertical-align: top;\n",
       "    }\n",
       "</style>\n",
       "<table border=\"1\" class=\"dataframe\">\n",
       "  <thead>\n",
       "    <tr style=\"text-align: right;\">\n",
       "      <th></th>\n",
       "      <th>avg_delay</th>\n",
       "      <th>avg_byte_rate</th>\n",
       "      <th>avg_packet_rate</th>\n",
       "      <th>avg_packet_size</th>\n",
       "      <th>Protocol</th>\n",
       "      <th>NumericalProtocol</th>\n",
       "    </tr>\n",
       "  </thead>\n",
       "  <tbody>\n",
       "    <tr>\n",
       "      <th>0</th>\n",
       "      <td>0.0681</td>\n",
       "      <td>0.557483</td>\n",
       "      <td>0.309713</td>\n",
       "      <td>1.8</td>\n",
       "      <td>Telnet</td>\n",
       "      <td>2</td>\n",
       "    </tr>\n",
       "    <tr>\n",
       "      <th>1</th>\n",
       "      <td>0.1106</td>\n",
       "      <td>0.315041</td>\n",
       "      <td>0.116682</td>\n",
       "      <td>2.7</td>\n",
       "      <td>Telnet</td>\n",
       "      <td>2</td>\n",
       "    </tr>\n",
       "    <tr>\n",
       "      <th>2</th>\n",
       "      <td>0.1086</td>\n",
       "      <td>0.199519</td>\n",
       "      <td>0.110844</td>\n",
       "      <td>1.8</td>\n",
       "      <td>Telnet</td>\n",
       "      <td>2</td>\n",
       "    </tr>\n",
       "    <tr>\n",
       "      <th>3</th>\n",
       "      <td>0.0838</td>\n",
       "      <td>0.455778</td>\n",
       "      <td>0.227889</td>\n",
       "      <td>2.0</td>\n",
       "      <td>Telnet</td>\n",
       "      <td>2</td>\n",
       "    </tr>\n",
       "    <tr>\n",
       "      <th>4</th>\n",
       "      <td>0.1265</td>\n",
       "      <td>0.500250</td>\n",
       "      <td>0.312656</td>\n",
       "      <td>1.6</td>\n",
       "      <td>Telnet</td>\n",
       "      <td>2</td>\n",
       "    </tr>\n",
       "  </tbody>\n",
       "</table>\n",
       "</div>"
      ],
      "text/plain": [
       "   avg_delay  avg_byte_rate  avg_packet_rate  avg_packet_size Protocol  \\\n",
       "0     0.0681       0.557483         0.309713              1.8   Telnet   \n",
       "1     0.1106       0.315041         0.116682              2.7   Telnet   \n",
       "2     0.1086       0.199519         0.110844              1.8   Telnet   \n",
       "3     0.0838       0.455778         0.227889              2.0   Telnet   \n",
       "4     0.1265       0.500250         0.312656              1.6   Telnet   \n",
       "\n",
       "   NumericalProtocol  \n",
       "0                  2  \n",
       "1                  2  \n",
       "2                  2  \n",
       "3                  2  \n",
       "4                  2  "
      ]
     },
     "execution_count": 19,
     "metadata": {},
     "output_type": "execute_result"
    }
   ],
   "source": [
    "total_df_nu.head()"
   ]
  },
  {
   "cell_type": "code",
   "execution_count": 20,
   "metadata": {
    "collapsed": true
   },
   "outputs": [],
   "source": [
    "#store the data frame as a csv file\n",
    "total_df_nu.to_csv(\"Data/ReadyFeatureExtraction_NonUniform.csv\",sep=',')"
   ]
  },
  {
   "cell_type": "code",
   "execution_count": 21,
   "metadata": {
    "collapsed": true
   },
   "outputs": [],
   "source": [
    "le = LabelEncoder()\n",
    "le.fit(total_df_u['Protocol'].values)\n",
    "total_df_u['NumericalProtocol'] = le.transform(total_df_u['Protocol'].values)"
   ]
  },
  {
   "cell_type": "code",
   "execution_count": 22,
   "metadata": {},
   "outputs": [
    {
     "data": {
      "text/html": [
       "<div>\n",
       "<style>\n",
       "    .dataframe thead tr:only-child th {\n",
       "        text-align: right;\n",
       "    }\n",
       "\n",
       "    .dataframe thead th {\n",
       "        text-align: left;\n",
       "    }\n",
       "\n",
       "    .dataframe tbody tr th {\n",
       "        vertical-align: top;\n",
       "    }\n",
       "</style>\n",
       "<table border=\"1\" class=\"dataframe\">\n",
       "  <thead>\n",
       "    <tr style=\"text-align: right;\">\n",
       "      <th></th>\n",
       "      <th>avg_delay</th>\n",
       "      <th>avg_byte_rate</th>\n",
       "      <th>avg_packet_rate</th>\n",
       "      <th>avg_packet_size</th>\n",
       "      <th>Protocol</th>\n",
       "      <th>NumericalProtocol</th>\n",
       "    </tr>\n",
       "  </thead>\n",
       "  <tbody>\n",
       "    <tr>\n",
       "      <th>0</th>\n",
       "      <td>0.0734</td>\n",
       "      <td>0.373261</td>\n",
       "      <td>0.162288</td>\n",
       "      <td>2.3</td>\n",
       "      <td>Telnet</td>\n",
       "      <td>2</td>\n",
       "    </tr>\n",
       "    <tr>\n",
       "      <th>1</th>\n",
       "      <td>0.0283</td>\n",
       "      <td>0.480868</td>\n",
       "      <td>0.343477</td>\n",
       "      <td>1.4</td>\n",
       "      <td>Telnet</td>\n",
       "      <td>2</td>\n",
       "    </tr>\n",
       "    <tr>\n",
       "      <th>2</th>\n",
       "      <td>0.0835</td>\n",
       "      <td>0.348109</td>\n",
       "      <td>0.105487</td>\n",
       "      <td>3.3</td>\n",
       "      <td>Telnet</td>\n",
       "      <td>2</td>\n",
       "    </tr>\n",
       "    <tr>\n",
       "      <th>3</th>\n",
       "      <td>0.0924</td>\n",
       "      <td>0.775505</td>\n",
       "      <td>0.267415</td>\n",
       "      <td>2.9</td>\n",
       "      <td>Telnet</td>\n",
       "      <td>2</td>\n",
       "    </tr>\n",
       "    <tr>\n",
       "      <th>4</th>\n",
       "      <td>0.1122</td>\n",
       "      <td>0.632847</td>\n",
       "      <td>0.253139</td>\n",
       "      <td>2.5</td>\n",
       "      <td>Telnet</td>\n",
       "      <td>2</td>\n",
       "    </tr>\n",
       "  </tbody>\n",
       "</table>\n",
       "</div>"
      ],
      "text/plain": [
       "   avg_delay  avg_byte_rate  avg_packet_rate  avg_packet_size Protocol  \\\n",
       "0     0.0734       0.373261         0.162288              2.3   Telnet   \n",
       "1     0.0283       0.480868         0.343477              1.4   Telnet   \n",
       "2     0.0835       0.348109         0.105487              3.3   Telnet   \n",
       "3     0.0924       0.775505         0.267415              2.9   Telnet   \n",
       "4     0.1122       0.632847         0.253139              2.5   Telnet   \n",
       "\n",
       "   NumericalProtocol  \n",
       "0                  2  \n",
       "1                  2  \n",
       "2                  2  \n",
       "3                  2  \n",
       "4                  2  "
      ]
     },
     "execution_count": 22,
     "metadata": {},
     "output_type": "execute_result"
    }
   ],
   "source": [
    "total_df_u.head()"
   ]
  },
  {
   "cell_type": "code",
   "execution_count": 23,
   "metadata": {},
   "outputs": [
    {
     "data": {
      "text/html": [
       "<div>\n",
       "<style>\n",
       "    .dataframe thead tr:only-child th {\n",
       "        text-align: right;\n",
       "    }\n",
       "\n",
       "    .dataframe thead th {\n",
       "        text-align: left;\n",
       "    }\n",
       "\n",
       "    .dataframe tbody tr th {\n",
       "        vertical-align: top;\n",
       "    }\n",
       "</style>\n",
       "<table border=\"1\" class=\"dataframe\">\n",
       "  <thead>\n",
       "    <tr style=\"text-align: right;\">\n",
       "      <th></th>\n",
       "      <th>avg_delay</th>\n",
       "      <th>avg_byte_rate</th>\n",
       "      <th>avg_packet_rate</th>\n",
       "      <th>avg_packet_size</th>\n",
       "      <th>Protocol</th>\n",
       "      <th>NumericalProtocol</th>\n",
       "    </tr>\n",
       "  </thead>\n",
       "  <tbody>\n",
       "    <tr>\n",
       "      <th>7889</th>\n",
       "      <td>0.0873</td>\n",
       "      <td>0.711793</td>\n",
       "      <td>0.026363</td>\n",
       "      <td>27.0</td>\n",
       "      <td>csi</td>\n",
       "      <td>4</td>\n",
       "    </tr>\n",
       "    <tr>\n",
       "      <th>7890</th>\n",
       "      <td>0.1192</td>\n",
       "      <td>0.717387</td>\n",
       "      <td>0.026375</td>\n",
       "      <td>27.2</td>\n",
       "      <td>csi</td>\n",
       "      <td>4</td>\n",
       "    </tr>\n",
       "    <tr>\n",
       "      <th>7891</th>\n",
       "      <td>0.0704</td>\n",
       "      <td>0.751327</td>\n",
       "      <td>0.026549</td>\n",
       "      <td>28.3</td>\n",
       "      <td>csi</td>\n",
       "      <td>4</td>\n",
       "    </tr>\n",
       "    <tr>\n",
       "      <th>7892</th>\n",
       "      <td>0.0739</td>\n",
       "      <td>0.724347</td>\n",
       "      <td>0.026436</td>\n",
       "      <td>27.4</td>\n",
       "      <td>csi</td>\n",
       "      <td>4</td>\n",
       "    </tr>\n",
       "    <tr>\n",
       "      <th>7893</th>\n",
       "      <td>0.1199</td>\n",
       "      <td>0.731494</td>\n",
       "      <td>0.026313</td>\n",
       "      <td>27.8</td>\n",
       "      <td>csi</td>\n",
       "      <td>4</td>\n",
       "    </tr>\n",
       "  </tbody>\n",
       "</table>\n",
       "</div>"
      ],
      "text/plain": [
       "      avg_delay  avg_byte_rate  avg_packet_rate  avg_packet_size Protocol  \\\n",
       "7889     0.0873       0.711793         0.026363             27.0      csi   \n",
       "7890     0.1192       0.717387         0.026375             27.2      csi   \n",
       "7891     0.0704       0.751327         0.026549             28.3      csi   \n",
       "7892     0.0739       0.724347         0.026436             27.4      csi   \n",
       "7893     0.1199       0.731494         0.026313             27.8      csi   \n",
       "\n",
       "      NumericalProtocol  \n",
       "7889                  4  \n",
       "7890                  4  \n",
       "7891                  4  \n",
       "7892                  4  \n",
       "7893                  4  "
      ]
     },
     "execution_count": 23,
     "metadata": {},
     "output_type": "execute_result"
    }
   ],
   "source": [
    "total_df_u.tail()"
   ]
  },
  {
   "cell_type": "code",
   "execution_count": 24,
   "metadata": {
    "collapsed": true
   },
   "outputs": [],
   "source": [
    "#store the data frame as a csv file\n",
    "total_df_u.to_csv(\"Data/ReadyFeatureExtraction_Uniform.csv\",sep=',')"
   ]
  },
  {
   "cell_type": "markdown",
   "metadata": {},
   "source": [
    "### 8a. This is the histogram plot showing the non-uniformity of the data. It also shows the precise values corresponding to each protocol "
   ]
  },
  {
   "cell_type": "code",
   "execution_count": 25,
   "metadata": {},
   "outputs": [
    {
     "data": {
      "image/png": "[encoded data removed]",
      "text/plain": [
       "<matplotlib.figure.Figure at 0x7f7a5c18c390>"
      ]
     },
     "metadata": {},
     "output_type": "display_data"
    }
   ],
   "source": [
    "fig1 = plt.figure()\n",
    "total_df_nu.Protocol.hist(bins=10,color='black')\n",
    "plt.title(\"Non-uniform distribution of the traffic samples\",fontweight='bold');\n",
    "plt.xlabel(\"Application Layer Protocol\",fontweight='bold');\n",
    "plt.ylabel(\"Number Of Samples\",fontweight='bold');\n",
    "plt.show()"
   ]
  },
  {
   "cell_type": "code",
   "execution_count": 26,
   "metadata": {
    "collapsed": true
   },
   "outputs": [],
   "source": [
    "#store the data distribution image as a png file\n",
    "fig1.savefig('Data/DataDistributionPlot_NonUniform.png')"
   ]
  },
  {
   "cell_type": "markdown",
   "metadata": {},
   "source": [
    "### 8b. This is the histogram plot showing the uniformity of the data. It also shows the precise values corresponding to each protocol "
   ]
  },
  {
   "cell_type": "code",
   "execution_count": 27,
   "metadata": {},
   "outputs": [
    {
     "data": {
      "image/png": "[encoded data removed]",
      "text/plain": [
       "<matplotlib.figure.Figure at 0x7f7a5c36c828>"
      ]
     },
     "metadata": {},
     "output_type": "display_data"
    }
   ],
   "source": [
    "fig2 = plt.figure()\n",
    "total_df_u.Protocol.hist(bins=10,color='black')\n",
    "plt.title(\"Uniform distribution of the traffic samples\",fontweight='bold');\n",
    "plt.xlabel(\"Application Layer Protocol\",fontweight='bold');\n",
    "plt.ylabel(\"Number Of Samples\",fontweight='bold');\n",
    "plt.show()"
   ]
  },
  {
   "cell_type": "code",
   "execution_count": 28,
   "metadata": {
    "collapsed": true
   },
   "outputs": [],
   "source": [
    "#store the data distribution image as a png file\n",
    "fig2.savefig('Data/DataDistributionPlot_Uniform.png')"
   ]
  }
 ],
 "metadata": {
  "kernelspec": {
   "display_name": "Python 3",
   "language": "python",
   "name": "python3"
  },
  "language_info": {
   "codemirror_mode": {
    "name": "ipython",
    "version": 3
   },
   "file_extension": ".py",
   "mimetype": "text/x-python",
   "name": "python",
   "nbconvert_exporter": "python",
   "pygments_lexer": "ipython3",
   "version": "3.6.3"
  }
 },
 "nbformat": 4,
 "nbformat_minor": 2
}
