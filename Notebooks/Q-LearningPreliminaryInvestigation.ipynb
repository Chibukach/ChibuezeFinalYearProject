{
 "cells": [
  {
   "cell_type": "markdown",
   "metadata": {},
   "source": [
    "##### Author: Chibueze Ukachi\n",
    "##### This notebook uses the Q-learning reinforment learning algorithm to calculate the shortest path \n",
    "\n",
    "######  Source: http://amunategui.github.io/reinforcement-learning/ . Amunategui's code if for an unweighted graph. \n",
    "\n",
    "Modifications were made to make it suitable for a bi-driectional weighted graph:\n",
    "- Different Reward Matrix\n",
    "- Different Q-Matrix Initialisation\n",
    "- Different Update function \n",
    "- Different Normaliser"
   ]
  },
  {
   "cell_type": "code",
   "execution_count": 1,
   "metadata": {
    "collapsed": true
   },
   "outputs": [],
   "source": [
    "#import relevant libraries\n",
    "import numpy as np\n",
    "import pylab as plt\n",
    "from scipy.sparse import coo_matrix\n",
    "import pandas as pd\n",
    "import time\n",
    "\n",
    "from numpy.random import randint"
   ]
  },
  {
   "cell_type": "markdown",
   "metadata": {},
   "source": [
    "#### Load NSF Network Topology "
   ]
  },
  {
   "cell_type": "code",
   "execution_count": 2,
   "metadata": {},
   "outputs": [
    {
     "data": {
      "text/plain": [
       "(21, 3)"
      ]
     },
     "execution_count": 2,
     "metadata": {},
     "output_type": "execute_result"
    }
   ],
   "source": [
    "#https://www.researchgate.net/figure/Network-topology-of-NSF-network-consisting-of-14-nodes-and-21-bidirectional-fib\n",
    "#er-links_fig3_228892289\n",
    "#the csv was manually created from the graph in the link above\n",
    "points_list = pd.read_csv(\"Data/nsf_topology.csv\",index_col=0)\n",
    "\n",
    "points_list.shape"
   ]
  },
  {
   "cell_type": "code",
   "execution_count": 3,
   "metadata": {},
   "outputs": [
    {
     "data": {
      "text/html": [
       "<div>\n",
       "<style>\n",
       "    .dataframe thead tr:only-child th {\n",
       "        text-align: right;\n",
       "    }\n",
       "\n",
       "    .dataframe thead th {\n",
       "        text-align: left;\n",
       "    }\n",
       "\n",
       "    .dataframe tbody tr th {\n",
       "        vertical-align: top;\n",
       "    }\n",
       "</style>\n",
       "<table border=\"1\" class=\"dataframe\">\n",
       "  <thead>\n",
       "    <tr style=\"text-align: right;\">\n",
       "      <th></th>\n",
       "      <th>connected</th>\n",
       "      <th>original</th>\n",
       "      <th>weights</th>\n",
       "    </tr>\n",
       "  </thead>\n",
       "  <tbody>\n",
       "    <tr>\n",
       "      <th>0</th>\n",
       "      <td>1</td>\n",
       "      <td>2</td>\n",
       "      <td>1100</td>\n",
       "    </tr>\n",
       "    <tr>\n",
       "      <th>1</th>\n",
       "      <td>1</td>\n",
       "      <td>3</td>\n",
       "      <td>1600</td>\n",
       "    </tr>\n",
       "    <tr>\n",
       "      <th>2</th>\n",
       "      <td>1</td>\n",
       "      <td>8</td>\n",
       "      <td>2800</td>\n",
       "    </tr>\n",
       "    <tr>\n",
       "      <th>3</th>\n",
       "      <td>2</td>\n",
       "      <td>3</td>\n",
       "      <td>600</td>\n",
       "    </tr>\n",
       "    <tr>\n",
       "      <th>4</th>\n",
       "      <td>2</td>\n",
       "      <td>4</td>\n",
       "      <td>1000</td>\n",
       "    </tr>\n",
       "    <tr>\n",
       "      <th>5</th>\n",
       "      <td>3</td>\n",
       "      <td>6</td>\n",
       "      <td>2000</td>\n",
       "    </tr>\n",
       "    <tr>\n",
       "      <th>6</th>\n",
       "      <td>4</td>\n",
       "      <td>5</td>\n",
       "      <td>600</td>\n",
       "    </tr>\n",
       "    <tr>\n",
       "      <th>7</th>\n",
       "      <td>4</td>\n",
       "      <td>11</td>\n",
       "      <td>2400</td>\n",
       "    </tr>\n",
       "    <tr>\n",
       "      <th>8</th>\n",
       "      <td>5</td>\n",
       "      <td>6</td>\n",
       "      <td>1100</td>\n",
       "    </tr>\n",
       "    <tr>\n",
       "      <th>9</th>\n",
       "      <td>5</td>\n",
       "      <td>7</td>\n",
       "      <td>800</td>\n",
       "    </tr>\n",
       "    <tr>\n",
       "      <th>10</th>\n",
       "      <td>6</td>\n",
       "      <td>10</td>\n",
       "      <td>1200</td>\n",
       "    </tr>\n",
       "    <tr>\n",
       "      <th>11</th>\n",
       "      <td>6</td>\n",
       "      <td>13</td>\n",
       "      <td>2000</td>\n",
       "    </tr>\n",
       "    <tr>\n",
       "      <th>12</th>\n",
       "      <td>7</td>\n",
       "      <td>8</td>\n",
       "      <td>700</td>\n",
       "    </tr>\n",
       "    <tr>\n",
       "      <th>13</th>\n",
       "      <td>8</td>\n",
       "      <td>9</td>\n",
       "      <td>700</td>\n",
       "    </tr>\n",
       "    <tr>\n",
       "      <th>14</th>\n",
       "      <td>9</td>\n",
       "      <td>10</td>\n",
       "      <td>900</td>\n",
       "    </tr>\n",
       "    <tr>\n",
       "      <th>15</th>\n",
       "      <td>9</td>\n",
       "      <td>12</td>\n",
       "      <td>500</td>\n",
       "    </tr>\n",
       "    <tr>\n",
       "      <th>16</th>\n",
       "      <td>9</td>\n",
       "      <td>14</td>\n",
       "      <td>500</td>\n",
       "    </tr>\n",
       "    <tr>\n",
       "      <th>17</th>\n",
       "      <td>11</td>\n",
       "      <td>12</td>\n",
       "      <td>800</td>\n",
       "    </tr>\n",
       "    <tr>\n",
       "      <th>18</th>\n",
       "      <td>11</td>\n",
       "      <td>14</td>\n",
       "      <td>800</td>\n",
       "    </tr>\n",
       "    <tr>\n",
       "      <th>19</th>\n",
       "      <td>12</td>\n",
       "      <td>13</td>\n",
       "      <td>300</td>\n",
       "    </tr>\n",
       "    <tr>\n",
       "      <th>20</th>\n",
       "      <td>13</td>\n",
       "      <td>14</td>\n",
       "      <td>300</td>\n",
       "    </tr>\n",
       "  </tbody>\n",
       "</table>\n",
       "</div>"
      ],
      "text/plain": [
       "    connected  original  weights\n",
       "0           1         2     1100\n",
       "1           1         3     1600\n",
       "2           1         8     2800\n",
       "3           2         3      600\n",
       "4           2         4     1000\n",
       "5           3         6     2000\n",
       "6           4         5      600\n",
       "7           4        11     2400\n",
       "8           5         6     1100\n",
       "9           5         7      800\n",
       "10          6        10     1200\n",
       "11          6        13     2000\n",
       "12          7         8      700\n",
       "13          8         9      700\n",
       "14          9        10      900\n",
       "15          9        12      500\n",
       "16          9        14      500\n",
       "17         11        12      800\n",
       "18         11        14      800\n",
       "19         12        13      300\n",
       "20         13        14      300"
      ]
     },
     "execution_count": 3,
     "metadata": {},
     "output_type": "execute_result"
    }
   ],
   "source": [
    "points_list"
   ]
  },
  {
   "cell_type": "markdown",
   "metadata": {},
   "source": [
    "#### Initialisation parameters for the network topology"
   ]
  },
  {
   "cell_type": "code",
   "execution_count": 4,
   "metadata": {},
   "outputs": [
    {
     "data": {
      "text/plain": [
       "14"
      ]
     },
     "execution_count": 4,
     "metadata": {},
     "output_type": "execute_result"
    }
   ],
   "source": [
    "num_nodes = len(np.unique(np.concatenate((points_list[\"original\"].values,points_list[\"connected\"].values))))\n",
    "start_node = 2\n",
    "end_node = 9\n",
    "goal = end_node\n",
    "num_nodes"
   ]
  },
  {
   "cell_type": "markdown",
   "metadata": {},
   "source": [
    "#### The reward matrix (R_fin) is the adjacency matrix which denotes the possible connections in the graph. "
   ]
  },
  {
   "cell_type": "code",
   "execution_count": 5,
   "metadata": {
    "scrolled": true
   },
   "outputs": [
    {
     "data": {
      "text/plain": [
       "array([[    0, -1100, -1600,     0,     0,     0,     0, -2800,     0,\n",
       "            0,     0,     0,     0,     0],\n",
       "       [-1100,     0,  -600, -1000,     0,     0,     0,     0,     0,\n",
       "            0,     0,     0,     0,     0],\n",
       "       [-1600,  -600,     0,     0,     0, -2000,     0,     0,     0,\n",
       "            0,     0,     0,     0,     0],\n",
       "       [    0, -1000,     0,     0,  -600,     0,     0,     0,     0,\n",
       "            0, -2400,     0,     0,     0],\n",
       "       [    0,     0,     0,  -600,     0, -1100,  -800,     0,     0,\n",
       "            0,     0,     0,     0,     0],\n",
       "       [    0,     0, -2000,     0, -1100,     0,     0,     0,     0,\n",
       "        -1200,     0,     0, -2000,     0],\n",
       "       [    0,     0,     0,     0,  -800,     0,     0,  -700,     0,\n",
       "            0,     0,     0,     0,     0],\n",
       "       [-2800,     0,     0,     0,     0,     0,  -700,     0,  -700,\n",
       "            0,     0,     0,     0,     0],\n",
       "       [    0,     0,     0,     0,     0,     0,     0,  -700,     0,\n",
       "         -900,     0,  -500,     0,  -500],\n",
       "       [    0,     0,     0,     0,     0, -1200,     0,     0,  -900,\n",
       "            0,     0,     0,     0,     0],\n",
       "       [    0,     0,     0, -2400,     0,     0,     0,     0,     0,\n",
       "            0,     0,  -800,     0,  -800],\n",
       "       [    0,     0,     0,     0,     0,     0,     0,     0,  -500,\n",
       "            0,  -800,     0,  -300,     0],\n",
       "       [    0,     0,     0,     0,     0, -2000,     0,     0,     0,\n",
       "            0,     0,  -300,     0,  -300],\n",
       "       [    0,     0,     0,     0,     0,     0,     0,     0,  -500,\n",
       "            0,  -800,     0,  -300,     0]])"
      ]
     },
     "execution_count": 5,
     "metadata": {},
     "output_type": "execute_result"
    }
   ],
   "source": [
    "points_list[\"connected\"] =points_list[\"connected\"].values -1\n",
    "points_list[\"original\"] =  points_list[\"original\"].values-1\n",
    "\n",
    "R_fin = -1* coo_matrix((points_list[\"weights\"].values,(points_list[\"connected\"].values,points_list[\"original\"].values)),(num_nodes,num_nodes)).toarray()\n",
    "#add to transpose so that we make the mappings bi-directional\n",
    "R_fin += R_fin.T\n",
    "R_fin"
   ]
  },
  {
   "cell_type": "markdown",
   "metadata": {},
   "source": [
    "#### Rather than intialise the Q-matrix memory to zero, the locations of the routers in the NSF topology was given"
   ]
  },
  {
   "cell_type": "code",
   "execution_count": 6,
   "metadata": {},
   "outputs": [
    {
     "data": {
      "text/plain": [
       "matrix([[     0.,  28000.,  28000.,      0.,      0.,      0.,      0.,\n",
       "          28000.,      0.,      0.,      0.,      0.,      0.,      0.],\n",
       "        [ 28000.,      0.,  28000.,  28000.,      0.,      0.,      0.,\n",
       "              0.,      0.,      0.,      0.,      0.,      0.,      0.],\n",
       "        [ 28000.,  28000.,      0.,      0.,      0.,  28000.,      0.,\n",
       "              0.,      0.,      0.,      0.,      0.,      0.,      0.],\n",
       "        [     0.,  28000.,      0.,      0.,  28000.,      0.,      0.,\n",
       "              0.,      0.,      0.,  28000.,      0.,      0.,      0.],\n",
       "        [     0.,      0.,      0.,  28000.,      0.,  28000.,  28000.,\n",
       "              0.,      0.,      0.,      0.,      0.,      0.,      0.],\n",
       "        [     0.,      0.,  28000.,      0.,  28000.,      0.,      0.,\n",
       "              0.,      0.,  28000.,      0.,      0.,  28000.,      0.],\n",
       "        [     0.,      0.,      0.,      0.,  28000.,      0.,      0.,\n",
       "          28000.,      0.,      0.,      0.,      0.,      0.,      0.],\n",
       "        [ 28000.,      0.,      0.,      0.,      0.,      0.,  28000.,\n",
       "              0.,  28000.,      0.,      0.,      0.,      0.,      0.],\n",
       "        [     0.,      0.,      0.,      0.,      0.,      0.,      0.,\n",
       "          28000.,      0.,  28000.,      0.,  28000.,      0.,  28000.],\n",
       "        [     0.,      0.,      0.,      0.,      0.,  28000.,      0.,\n",
       "              0.,  28000.,      0.,      0.,      0.,      0.,      0.],\n",
       "        [     0.,      0.,      0.,  28000.,      0.,      0.,      0.,\n",
       "              0.,      0.,      0.,      0.,  28000.,      0.,  28000.],\n",
       "        [     0.,      0.,      0.,      0.,      0.,      0.,      0.,\n",
       "              0.,  28000.,      0.,  28000.,      0.,  28000.,      0.],\n",
       "        [     0.,      0.,      0.,      0.,      0.,  28000.,      0.,\n",
       "              0.,      0.,      0.,      0.,  28000.,      0.,  28000.],\n",
       "        [     0.,      0.,      0.,      0.,      0.,      0.,      0.,\n",
       "              0.,  28000.,      0.,  28000.,      0.,  28000.,      0.]])"
      ]
     },
     "execution_count": 6,
     "metadata": {},
     "output_type": "execute_result"
    }
   ],
   "source": [
    "Q_fin = np.copy(R_fin)\n",
    "Q_fin[Q_fin<0] = 10*np.max(abs(R_fin))\n",
    "Q_fin = np.matrix(Q_fin).astype(float)\n",
    "Q_fin"
   ]
  },
  {
   "cell_type": "markdown",
   "metadata": {},
   "source": [
    "#### Initialisation parameters for the network topology"
   ]
  },
  {
   "cell_type": "code",
   "execution_count": 7,
   "metadata": {
    "collapsed": true
   },
   "outputs": [],
   "source": [
    "alpha = 0.7 # learning rate\n",
    "epsilon = 0.1 #exploitation vs exploration\n",
    "gamma = 0.9\n",
    "n_episodes = 100"
   ]
  },
  {
   "cell_type": "code",
   "execution_count": 8,
   "metadata": {
    "collapsed": true
   },
   "outputs": [],
   "source": [
    "def normaliser(my_Q):\n",
    "    num = my_Q - np.min(my_Q)\n",
    "    den = np.max(my_Q)- np.min(my_Q)\n",
    "    return num/den"
   ]
  },
  {
   "cell_type": "markdown",
   "metadata": {},
   "source": [
    "#### Tabular Q-learning update equation\n",
    "\n",
    "$$ Q(S_{t},A_{t}) = Q(S_{t},A_{t}) + \\alpha[R_{t+1} + \\gamma max Q(S_{t+1},A_{t+1}) - Q(S_{t},A_{t})]   $$"
   ]
  },
  {
   "cell_type": "code",
   "execution_count": 9,
   "metadata": {
    "collapsed": true
   },
   "outputs": [],
   "source": [
    "def update_Q_c(my_R,my_Q,current_state, next_state, alpha,gamma):\n",
    "    \"\"\"\n",
    "    This is simply a programmatic representation of the Q-learning formula shown above.\n",
    "    In addition to a scoring metric to check for convergence\n",
    "    \"\"\"\n",
    "    \n",
    "    curr_r = my_R[current_state,next_state]\n",
    "    curr_q = my_Q[current_state,next_state] \n",
    "    #for any valid moves in the next state, so where it is greater than 0, we choose the maximum\n",
    "    #np.where returns array of index of the valid moves\n",
    "    max_q = np.max(my_Q[next_state,np.where(my_Q[next_state,:]>0)[1]])\n",
    "    my_Q[current_state,next_state] +=  alpha * (curr_r + (gamma*max_q) - curr_q)     \n",
    "    #normalised score is an arbritrary metric to check for convergence\n",
    "    score = normaliser(my_Q)\n",
    "    return my_Q,score"
   ]
  },
  {
   "cell_type": "markdown",
   "metadata": {},
   "source": [
    "##### Training the network based on Q-learning algorithm"
   ]
  },
  {
   "cell_type": "code",
   "execution_count": 10,
   "metadata": {},
   "outputs": [
    {
     "name": "stdout",
     "output_type": "stream",
     "text": [
      "CPU times: user 48 ms, sys: 0 ns, total: 48 ms\n",
      "Wall time: 52.4 ms\n"
     ]
    }
   ],
   "source": [
    "%%time\n",
    "scores = []\n",
    "\n",
    "#play the game for 100 episodes\n",
    "for e in range(n_episodes):\n",
    "    current_state = start_node\n",
    "    goal = False\n",
    "    local_score = []\n",
    "    #each game ends once it reaches the destination\n",
    "    while not goal:\n",
    "        #index of valid moves which composes of the next state\n",
    "        valid_moves = np.where(Q_fin[current_state,:] > 0)[1]\n",
    "\n",
    "        #if there's only one valid option, go there\n",
    "        if len(valid_moves) <= 1:\n",
    "            next_state = valid_moves[0]\n",
    "        else:\n",
    "            #since multiple options exist, we choose the one with the maximum future reward\n",
    "            max_val_c = np.max(Q_fin[current_state,valid_moves])\n",
    "            best_actions_list = np.where(Q_fin[current_state,:]== max_val_c)[1]\n",
    "            best_action = np.random.choice(best_actions_list)\n",
    "            if np.random.random() < epsilon:\n",
    "                #choice that may not be maximum so we can discover new efficient routes \n",
    "                valid_moves = valid_moves[np.where(valid_moves != best_action)[0]]       \n",
    "                next_state = np.random.choice(valid_moves)               \n",
    "            else:\n",
    "                #choice with max reward\n",
    "                next_state = best_action\n",
    "\n",
    "        mine_Q,score = update_Q_c(R_fin,Q_fin,current_state, next_state, alpha,gamma)\n",
    "        local_score.append(score)\n",
    "\n",
    "        if next_state == end_node:\n",
    "            goal = True\n",
    "        current_state = next_state\n",
    "    \n",
    "    scores.append(np.average(np.array(local_score)))"
   ]
  },
  {
   "cell_type": "code",
   "execution_count": 22,
   "metadata": {},
   "outputs": [
    {
     "data": {
      "image/png": "[encoded data removed]",
      "text/plain": [
       "<matplotlib.figure.Figure at 0x7fdfa49904a8>"
      ]
     },
     "metadata": {},
     "output_type": "display_data"
    }
   ],
   "source": [
    "\n",
    "fig, ax = plt.subplots()\n",
    "plt.axvline(x=8,color='red',label= 'Number of Episodes = 8')\n",
    "plt.plot(scores,label='Scores')\n",
    "plt.legend()\n",
    "plt.xlabel('Number Of Episodes')\n",
    "plt.ylabel('Normalised Score')\n",
    "plt.title('Q-Learning Shortest Path Convergence')\n",
    "plt.show()"
   ]
  },
  {
   "cell_type": "code",
   "execution_count": 12,
   "metadata": {
    "collapsed": true
   },
   "outputs": [],
   "source": [
    "fig.savefig('Data/QLearningConvergence.png')"
   ]
  },
  {
   "cell_type": "markdown",
   "metadata": {},
   "source": [
    "##### Testing the network using only information from the Q-matrix "
   ]
  },
  {
   "cell_type": "code",
   "execution_count": 13,
   "metadata": {},
   "outputs": [
    {
     "name": "stdout",
     "output_type": "stream",
     "text": [
      "the potential next node is: [5]\n",
      "I chose: [5]\n",
      "the potential next node is: [9]\n",
      "I chose: [9]\n",
      "Shortest path: [2, 5, 9]\n",
      "CPU times: user 8 ms, sys: 0 ns, total: 8 ms\n",
      "Wall time: 4.93 ms\n"
     ]
    }
   ],
   "source": [
    "%%time\n",
    "\n",
    "current_state = start_node\n",
    "node_list = [current_state]\n",
    "while current_state != end_node:\n",
    "    #index of valid moves which composes of the next state\n",
    "    my_moves = np.where(Q_fin[current_state,:] > 0)[1]\n",
    "    max_value = np.max(Q_fin[current_state,my_moves])\n",
    "\n",
    "    next_node = np.where(Q_fin[current_state,:]== max_value)[1]\n",
    "    print(\"the potential next node is:\", next_node)\n",
    "    if len(next_node)>1: \n",
    "        next_node = next_node[i]\n",
    "\n",
    "    print(\"I chose:\", next_node)\n",
    "\n",
    "    node_list.append(int(next_node))\n",
    "    #print(next_node)\n",
    "    current_state = next_node\n",
    "\n",
    "\n",
    "print(\"Shortest path:\", node_list)\n"
   ]
  },
  {
   "cell_type": "code",
   "execution_count": 14,
   "metadata": {},
   "outputs": [
    {
     "data": {
      "image/png": "[encoded data removed]",
      "text/plain": [
       "<matplotlib.figure.Figure at 0x7fdfb5942128>"
      ]
     },
     "metadata": {},
     "output_type": "display_data"
    }
   ],
   "source": [
    "import networkx as nx\n",
    "fig = plt.figure()\n",
    "G=nx.Graph()\n",
    "nx_points_lists = list(zip(points_list[\"original\"].values,points_list[\"connected\"].values,points_list[\"weights\"].values))\n",
    "G.add_weighted_edges_from(nx_points_lists)\n",
    "pos = nx.spring_layout(G)\n",
    "nx.draw_networkx_nodes(G,pos)\n",
    "nx.draw_networkx_edges(G,pos)\n",
    "nx.draw_networkx_labels(G,pos)\n",
    "\n",
    "labels = nx.get_edge_attributes(G,'weight')\n",
    "nx.draw_networkx_edge_labels(G,pos,edge_labels=labels)\n",
    "\n",
    "plt.show()"
   ]
  },
  {
   "cell_type": "code",
   "execution_count": 15,
   "metadata": {},
   "outputs": [
    {
     "name": "stdout",
     "output_type": "stream",
     "text": [
      "CPU times: user 96 ms, sys: 0 ns, total: 96 ms\n",
      "Wall time: 95.5 ms\n"
     ]
    }
   ],
   "source": [
    "%%time\n",
    "fig.savefig('Data/NSFTopologyNetworkX.png')\n",
    "#uses dijkstra shortest path algorithm\n",
    "nx.dijkstra_path(G,start_node,end_node)"
   ]
  }
 ],
 "metadata": {
  "kernelspec": {
   "display_name": "Python 3",
   "language": "python",
   "name": "python3"
  },
  "language_info": {
   "codemirror_mode": {
    "name": "ipython",
    "version": 3
   },
   "file_extension": ".py",
   "mimetype": "text/x-python",
   "name": "python",
   "nbconvert_exporter": "python",
   "pygments_lexer": "ipython3",
   "version": "3.6.3"
  }
 },
 "nbformat": 4,
 "nbformat_minor": 2
}
